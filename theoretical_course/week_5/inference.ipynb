{
 "cells": [
  {
   "cell_type": "markdown",
   "metadata": {},
   "source": [
    "## 实现了kmeans及kmeans++,并通过hct66数据集与mnist数据集分别进行了验证"
   ]
  },
  {
   "cell_type": "code",
   "execution_count": 7,
   "metadata": {},
   "outputs": [],
   "source": [
    "from hct66 import *\n",
    "from kmeans import *"
   ]
  },
  {
   "cell_type": "markdown",
   "metadata": {},
   "source": [
    "## 一、hct66数据集"
   ]
  },
  {
   "cell_type": "markdown",
   "metadata": {},
   "source": [
    "### 加载数据"
   ]
  },
  {
   "cell_type": "code",
   "execution_count": 2,
   "metadata": {},
   "outputs": [
    {
     "name": "stdout",
     "output_type": "stream",
     "text": [
      "torch.Size([10, 6])\n"
     ]
    }
   ],
   "source": [
    "image_data,image_label = generate_data()\n",
    "data_num = len(image_data)\n",
    "data = torch.empty((data_num, 6)).float()\n",
    "for i in range(data_num):\n",
    "    data[i] = get_feature(image_data[i]).view(6)\n",
    "    \n",
    "print(data.shape)\n"
   ]
  },
  {
   "cell_type": "markdown",
   "metadata": {},
   "source": [
    "### kmeans方法聚类结果"
   ]
  },
  {
   "cell_type": "code",
   "execution_count": 7,
   "metadata": {},
   "outputs": [
    {
     "name": "stdout",
     "output_type": "stream",
     "text": [
      "聚类中心点偏移程度:1.9930435419082642\n",
      "聚类中心点偏移程度:0.7731608748435974\n",
      "聚类中心点偏移程度:0.0\n",
      "数字:0聚类结果:2\n",
      "数字:1聚类结果:0\n",
      "数字:2聚类结果:2\n",
      "数字:3聚类结果:0\n",
      "数字:4聚类结果:2\n",
      "数字:5聚类结果:1\n",
      "数字:6聚类结果:1\n",
      "数字:7聚类结果:0\n",
      "数字:8聚类结果:2\n",
      "数字:9聚类结果:2\n"
     ]
    }
   ],
   "source": [
    "# 创建模型\n",
    "kmeans = KMeans(n_clusters=3, init_random=True)\n",
    "# 开始训练\n",
    "kmeans.fit(data)\n",
    "# 开始预测\n",
    "pred = kmeans.predict(data)\n",
    "for i in range(data_num):\n",
    "    print(\"数字:{}聚类结果:{}\".format(i, pred[i]))"
   ]
  },
  {
   "cell_type": "markdown",
   "metadata": {},
   "source": [
    "### kmeans++方法聚类结果"
   ]
  },
  {
   "cell_type": "code",
   "execution_count": 8,
   "metadata": {},
   "outputs": [
    {
     "name": "stdout",
     "output_type": "stream",
     "text": [
      "聚类中心点偏移程度:1.60173499584198\n",
      "聚类中心点偏移程度:0.0\n",
      "数字:0聚类结果:2\n",
      "数字:1聚类结果:0\n",
      "数字:2聚类结果:0\n",
      "数字:3聚类结果:0\n",
      "数字:4聚类结果:2\n",
      "数字:5聚类结果:1\n",
      "数字:6聚类结果:1\n",
      "数字:7聚类结果:0\n",
      "数字:8聚类结果:0\n",
      "数字:9聚类结果:2\n"
     ]
    }
   ],
   "source": [
    "# 创建模型\n",
    "kmeans = KMeans(n_clusters=3, init_random=False)\n",
    "# 开始训练\n",
    "kmeans.fit(data)\n",
    "# 开始预测\n",
    "pred = kmeans.predict(data)\n",
    "for i in range(data_num):\n",
    "    print(\"数字:{}聚类结果:{}\".format(i, pred[i]))"
   ]
  },
  {
   "cell_type": "markdown",
   "metadata": {},
   "source": [
    "### 结论：\n",
    "#### 两种方法只有数字8的聚类结果不一样，其他都一样"
   ]
  },
  {
   "cell_type": "markdown",
   "metadata": {},
   "source": [
    "## 二、mnist数据集"
   ]
  },
  {
   "cell_type": "markdown",
   "metadata": {},
   "source": [
    "### 加载数据集"
   ]
  },
  {
   "cell_type": "code",
   "execution_count": 8,
   "metadata": {},
   "outputs": [],
   "source": [
    "import sys\n",
    "sys.path.append('../week_4/')\n",
    "from data import load_mnist\n",
    "\n",
    "train_imgs, train_labels = load_mnist('../week_4/mnist', kind='train')\n",
    "test_imgs, test_labels = load_mnist('../week_4/mnist', kind='t10k')\n",
    "\n",
    "# 选取训练集数据样本量为1000，测试集为100\n",
    "train_imgs, train_labels = train_imgs[:1000], train_labels[:1000]\n",
    "test_imgs, test_labels = test_imgs[:100], test_labels[:100]"
   ]
  },
  {
   "cell_type": "markdown",
   "metadata": {},
   "source": [
    "### 数据预处理"
   ]
  },
  {
   "cell_type": "code",
   "execution_count": 9,
   "metadata": {},
   "outputs": [],
   "source": [
    "from sklearn.decomposition import PCA\n",
    "from sklearn import preprocessing\n",
    "\n",
    "# 数据标准化\n",
    "zscore = preprocessing.StandardScaler()                # zscore标准化方式\n",
    "train_imgs = zscore.fit_transform(train_imgs)\n",
    "test_imgs = zscore.transform(test_imgs)                # 测试集与训练集保持一致的zscore方式\n",
    "# PCA降维\n",
    "pca = PCA(n_components=30)  \n",
    "train_features = pca.fit_transform(train_imgs)    # 训练集pca降维\n",
    "test_features = pca.transform(test_imgs)          # 测试集pca降维"
   ]
  },
  {
   "cell_type": "markdown",
   "metadata": {},
   "source": [
    "### 评估准确率接口"
   ]
  },
  {
   "cell_type": "code",
   "execution_count": 35,
   "metadata": {},
   "outputs": [],
   "source": [
    "def get_cluster_idx(labels_1, labels_2):\n",
    "    # labels_1:数据对应的数字\n",
    "    # labels_2: 模型中聚类得到的标签\n",
    "    cluster_idx = []\n",
    "    for i in range(10):\n",
    "        idx = np.argwhere(labels_1 == i)\n",
    "        tmp = labels_2[idx]\n",
    "        tmp = np.squeeze(tmp)\n",
    "        cluster_idx.append(np.argmax(np.bincount(tmp)))\n",
    "    return cluster_idx\n",
    "\n",
    "def get_acc(test_labels, test_pred, cluster_idx):\n",
    "    acc = []\n",
    "    for i in range(10):\n",
    "        idx = np.argwhere(test_labels == i)\n",
    "        tmp = test_pred[idx]\n",
    "        tmp = np.squeeze(tmp)\n",
    "        right_idx = np.argwhere(tmp == cluster_idx[i])\n",
    "        a = right_idx.shape[0] / tmp.shape[0] * 100\n",
    "        acc.append(a)\n",
    "        print('数字:{}预测准确率:{}'.format(i, a))\n",
    "    return acc"
   ]
  },
  {
   "cell_type": "markdown",
   "metadata": {},
   "source": [
    "### kmeans方法聚类结果"
   ]
  },
  {
   "cell_type": "code",
   "execution_count": 36,
   "metadata": {},
   "outputs": [
    {
     "name": "stdout",
     "output_type": "stream",
     "text": [
      "聚类中心点偏移程度:29.607247623960113\n",
      "聚类中心点偏移程度:10.156621932983398\n",
      "聚类中心点偏移程度:5.89716911315918\n",
      "聚类中心点偏移程度:7.949558734893799\n",
      "聚类中心点偏移程度:6.388545989990234\n",
      "聚类中心点偏移程度:4.974133491516113\n",
      "聚类中心点偏移程度:4.173639297485352\n",
      "聚类中心点偏移程度:2.0072414875030518\n",
      "聚类中心点偏移程度:2.2811224460601807\n",
      "聚类中心点偏移程度:2.1374905109405518\n",
      "聚类中心点偏移程度:1.5519706010818481\n",
      "聚类中心点偏移程度:2.4223246574401855\n",
      "聚类中心点偏移程度:1.5457338094711304\n",
      "聚类中心点偏移程度:0.6535611152648926\n",
      "聚类中心点偏移程度:0.8288869261741638\n",
      "聚类中心点偏移程度:0.0\n",
      "预测结果...\n",
      "数字:7聚类结果:5\n",
      "数字:2聚类结果:8\n",
      "数字:1聚类结果:9\n",
      "数字:0聚类结果:2\n",
      "数字:4聚类结果:1\n",
      "数字:1聚类结果:9\n",
      "数字:4聚类结果:1\n",
      "数字:9聚类结果:8\n",
      "数字:5聚类结果:6\n",
      "数字:9聚类结果:5\n",
      "数字:0聚类结果:2\n",
      "数字:6聚类结果:1\n",
      "数字:9聚类结果:1\n",
      "数字:0聚类结果:1\n",
      "数字:1聚类结果:9\n",
      "数字:5聚类结果:8\n",
      "数字:9聚类结果:1\n",
      "数字:7聚类结果:1\n",
      "数字:3聚类结果:8\n",
      "数字:4聚类结果:1\n",
      "数字:9聚类结果:5\n",
      "数字:6聚类结果:0\n",
      "数字:6聚类结果:1\n",
      "数字:5聚类结果:6\n",
      "数字:4聚类结果:1\n",
      "数字:0聚类结果:7\n",
      "数字:7聚类结果:1\n",
      "数字:4聚类结果:1\n",
      "数字:0聚类结果:2\n",
      "数字:1聚类结果:9\n",
      "数字:3聚类结果:1\n",
      "数字:1聚类结果:9\n",
      "数字:3聚类结果:8\n",
      "数字:4聚类结果:6\n",
      "数字:7聚类结果:5\n",
      "数字:2聚类结果:4\n",
      "数字:7聚类结果:1\n",
      "数字:1聚类结果:9\n",
      "数字:2聚类结果:9\n",
      "数字:1聚类结果:9\n",
      "数字:1聚类结果:9\n",
      "数字:7聚类结果:1\n",
      "数字:4聚类结果:1\n",
      "数字:2聚类结果:9\n",
      "数字:3聚类结果:9\n",
      "数字:5聚类结果:9\n",
      "数字:1聚类结果:1\n",
      "数字:2聚类结果:9\n",
      "数字:4聚类结果:1\n",
      "数字:4聚类结果:1\n",
      "数字:6聚类结果:0\n",
      "数字:3聚类结果:8\n",
      "数字:5聚类结果:6\n",
      "数字:5聚类结果:1\n",
      "数字:6聚类结果:7\n",
      "数字:0聚类结果:1\n",
      "数字:4聚类结果:1\n",
      "数字:1聚类结果:9\n",
      "数字:9聚类结果:1\n",
      "数字:5聚类结果:9\n",
      "数字:7聚类结果:1\n",
      "数字:8聚类结果:6\n",
      "数字:9聚类结果:1\n",
      "数字:3聚类结果:9\n",
      "数字:7聚类结果:5\n",
      "数字:4聚类结果:1\n",
      "数字:6聚类结果:1\n",
      "数字:4聚类结果:1\n",
      "数字:3聚类结果:1\n",
      "数字:0聚类结果:7\n",
      "数字:7聚类结果:1\n",
      "数字:0聚类结果:7\n",
      "数字:2聚类结果:8\n",
      "数字:9聚类结果:5\n",
      "数字:1聚类结果:9\n",
      "数字:7聚类结果:1\n",
      "数字:3聚类结果:9\n",
      "数字:2聚类结果:8\n",
      "数字:9聚类结果:9\n",
      "数字:7聚类结果:5\n",
      "数字:7聚类结果:1\n",
      "数字:6聚类结果:0\n",
      "数字:2聚类结果:4\n",
      "数字:7聚类结果:1\n",
      "数字:8聚类结果:1\n",
      "数字:4聚类结果:1\n",
      "数字:7聚类结果:5\n",
      "数字:3聚类结果:8\n",
      "数字:6聚类结果:0\n",
      "数字:1聚类结果:9\n",
      "数字:3聚类结果:1\n",
      "数字:6聚类结果:0\n",
      "数字:9聚类结果:6\n",
      "数字:3聚类结果:1\n",
      "数字:1聚类结果:9\n",
      "数字:4聚类结果:6\n",
      "数字:1聚类结果:9\n",
      "数字:7聚类结果:1\n",
      "数字:6聚类结果:0\n",
      "数字:9聚类结果:1\n",
      "准确率统计...\n",
      "数字:0预测准确率:37.5\n",
      "数字:1预测准确率:92.85714285714286\n",
      "数字:2预测准确率:25.0\n",
      "数字:3预测准确率:0.0\n",
      "数字:4预测准确率:14.285714285714285\n",
      "数字:5预测准确率:0.0\n",
      "数字:6预测准确率:60.0\n",
      "数字:7预测准确率:33.33333333333333\n",
      "数字:8预测准确率:0.0\n",
      "数字:9预测准确率:9.090909090909092\n"
     ]
    }
   ],
   "source": [
    "kmeans = KMeans(n_clusters=10, init_random=True)\n",
    "# 开始训练\n",
    "kmeans.fit(torch.from_numpy(train_features))\n",
    "# 开始预测\n",
    "pred = kmeans.predict(torch.from_numpy(test_features))\n",
    "data_num = test_features.shape[0]\n",
    "print(\"预测结果...\")\n",
    "for i in range(data_num):\n",
    "    print(\"数字:{}聚类结果:{}\".format(test_labels[i], pred[i]))\n",
    "    \n",
    "print(\"准确率统计...\")\n",
    "cluster_idx = get_cluster_idx(train_labels, kmeans.labels.numpy())\n",
    "acc = get_acc(test_labels, pred.numpy(), cluster_idx)"
   ]
  },
  {
   "cell_type": "markdown",
   "metadata": {},
   "source": [
    "### kmeans++聚类结果"
   ]
  },
  {
   "cell_type": "code",
   "execution_count": 37,
   "metadata": {},
   "outputs": [
    {
     "name": "stdout",
     "output_type": "stream",
     "text": [
      "聚类中心点偏移程度:46.747520446777344\n",
      "聚类中心点偏移程度:11.444483757019043\n",
      "聚类中心点偏移程度:10.786985397338867\n",
      "聚类中心点偏移程度:7.642075061798096\n",
      "聚类中心点偏移程度:4.480526924133301\n",
      "聚类中心点偏移程度:3.0219664573669434\n",
      "聚类中心点偏移程度:2.218599557876587\n",
      "聚类中心点偏移程度:2.207875967025757\n",
      "聚类中心点偏移程度:1.4722528457641602\n",
      "聚类中心点偏移程度:0.6805112957954407\n",
      "聚类中心点偏移程度:2.809535026550293\n",
      "聚类中心点偏移程度:0.1043250560760498\n",
      "聚类中心点偏移程度:0.1549130529165268\n",
      "聚类中心点偏移程度:0.19813208281993866\n",
      "聚类中心点偏移程度:0.2290148138999939\n",
      "聚类中心点偏移程度:0.15154777467250824\n",
      "聚类中心点偏移程度:0.1884559690952301\n",
      "聚类中心点偏移程度:0.13066843152046204\n",
      "聚类中心点偏移程度:0.10175049304962158\n",
      "聚类中心点偏移程度:0.30542436242103577\n",
      "聚类中心点偏移程度:0.11306161433458328\n",
      "聚类中心点偏移程度:0.18460607528686523\n",
      "聚类中心点偏移程度:0.15681540966033936\n",
      "聚类中心点偏移程度:0.10637231171131134\n",
      "聚类中心点偏移程度:0.09891415387392044\n",
      "聚类中心点偏移程度:0.10511888563632965\n",
      "聚类中心点偏移程度:0.2369125634431839\n",
      "聚类中心点偏移程度:0.2756730914115906\n",
      "聚类中心点偏移程度:0.06563685834407806\n",
      "聚类中心点偏移程度:0.04991510137915611\n",
      "聚类中心点偏移程度:0.0\n",
      "预测结果...\n",
      "数字:7聚类结果:5\n",
      "数字:2聚类结果:8\n",
      "数字:1聚类结果:9\n",
      "数字:0聚类结果:2\n",
      "数字:4聚类结果:1\n",
      "数字:1聚类结果:9\n",
      "数字:4聚类结果:1\n",
      "数字:9聚类结果:8\n",
      "数字:5聚类结果:6\n",
      "数字:9聚类结果:5\n",
      "数字:0聚类结果:2\n",
      "数字:6聚类结果:1\n",
      "数字:9聚类结果:1\n",
      "数字:0聚类结果:1\n",
      "数字:1聚类结果:9\n",
      "数字:5聚类结果:8\n",
      "数字:9聚类结果:1\n",
      "数字:7聚类结果:1\n",
      "数字:3聚类结果:8\n",
      "数字:4聚类结果:1\n",
      "数字:9聚类结果:5\n",
      "数字:6聚类结果:0\n",
      "数字:6聚类结果:1\n",
      "数字:5聚类结果:6\n",
      "数字:4聚类结果:1\n",
      "数字:0聚类结果:7\n",
      "数字:7聚类结果:1\n",
      "数字:4聚类结果:1\n",
      "数字:0聚类结果:2\n",
      "数字:1聚类结果:9\n",
      "数字:3聚类结果:1\n",
      "数字:1聚类结果:9\n",
      "数字:3聚类结果:8\n",
      "数字:4聚类结果:6\n",
      "数字:7聚类结果:5\n",
      "数字:2聚类结果:4\n",
      "数字:7聚类结果:1\n",
      "数字:1聚类结果:9\n",
      "数字:2聚类结果:9\n",
      "数字:1聚类结果:9\n",
      "数字:1聚类结果:9\n",
      "数字:7聚类结果:1\n",
      "数字:4聚类结果:1\n",
      "数字:2聚类结果:9\n",
      "数字:3聚类结果:9\n",
      "数字:5聚类结果:9\n",
      "数字:1聚类结果:1\n",
      "数字:2聚类结果:9\n",
      "数字:4聚类结果:1\n",
      "数字:4聚类结果:1\n",
      "数字:6聚类结果:0\n",
      "数字:3聚类结果:8\n",
      "数字:5聚类结果:6\n",
      "数字:5聚类结果:1\n",
      "数字:6聚类结果:7\n",
      "数字:0聚类结果:1\n",
      "数字:4聚类结果:1\n",
      "数字:1聚类结果:9\n",
      "数字:9聚类结果:1\n",
      "数字:5聚类结果:9\n",
      "数字:7聚类结果:1\n",
      "数字:8聚类结果:6\n",
      "数字:9聚类结果:1\n",
      "数字:3聚类结果:9\n",
      "数字:7聚类结果:5\n",
      "数字:4聚类结果:1\n",
      "数字:6聚类结果:1\n",
      "数字:4聚类结果:1\n",
      "数字:3聚类结果:1\n",
      "数字:0聚类结果:7\n",
      "数字:7聚类结果:1\n",
      "数字:0聚类结果:7\n",
      "数字:2聚类结果:8\n",
      "数字:9聚类结果:5\n",
      "数字:1聚类结果:9\n",
      "数字:7聚类结果:1\n",
      "数字:3聚类结果:9\n",
      "数字:2聚类结果:8\n",
      "数字:9聚类结果:9\n",
      "数字:7聚类结果:5\n",
      "数字:7聚类结果:1\n",
      "数字:6聚类结果:0\n",
      "数字:2聚类结果:4\n",
      "数字:7聚类结果:1\n",
      "数字:8聚类结果:1\n",
      "数字:4聚类结果:1\n",
      "数字:7聚类结果:5\n",
      "数字:3聚类结果:8\n",
      "数字:6聚类结果:0\n",
      "数字:1聚类结果:9\n",
      "数字:3聚类结果:1\n",
      "数字:6聚类结果:0\n",
      "数字:9聚类结果:6\n",
      "数字:3聚类结果:1\n",
      "数字:1聚类结果:9\n",
      "数字:4聚类结果:6\n",
      "数字:1聚类结果:9\n",
      "数字:7聚类结果:1\n",
      "数字:6聚类结果:0\n",
      "数字:9聚类结果:1\n",
      "准确率统计...\n",
      "数字:0预测准确率:0.0\n",
      "数字:1预测准确率:0.0\n",
      "数字:2预测准确率:0.0\n",
      "数字:3预测准确率:0.0\n",
      "数字:4预测准确率:0.0\n",
      "数字:5预测准确率:0.0\n",
      "数字:6预测准确率:60.0\n",
      "数字:7预测准确率:0.0\n",
      "数字:8预测准确率:0.0\n",
      "数字:9预测准确率:0.0\n"
     ]
    }
   ],
   "source": [
    "kmeans_pp = KMeans(n_clusters=10, init_random=False)\n",
    "# 开始训练\n",
    "kmeans_pp.fit(torch.from_numpy(train_features))\n",
    "# 开始预测\n",
    "pred_pp = kmeans.predict(torch.from_numpy(test_features))\n",
    "data_num = test_features.shape[0]\n",
    "print(\"预测结果...\")\n",
    "for i in range(data_num):\n",
    "    print(\"数字:{}聚类结果:{}\".format(test_labels[i], pred_pp[i]))\n",
    "    \n",
    "print(\"准确率统计...\")\n",
    "cluster_idx_pp = get_cluster_idx(train_labels, kmeans_pp.labels.numpy())\n",
    "acc_pp = get_acc(test_labels, pred_pp.numpy(), cluster_idx_pp)"
   ]
  },
  {
   "cell_type": "markdown",
   "metadata": {},
   "source": [
    "### 总结  \n",
    "#### 对于mnist环节，准确率低是因为采用了很小的数据集，旨在跑通代码，实现功能，尚未使用全部数据对模型调优"
   ]
  }
 ],
 "metadata": {
  "kernelspec": {
   "display_name": "Python 3",
   "language": "python",
   "name": "python3"
  },
  "language_info": {
   "codemirror_mode": {
    "name": "ipython",
    "version": 3
   },
   "file_extension": ".py",
   "mimetype": "text/x-python",
   "name": "python",
   "nbconvert_exporter": "python",
   "pygments_lexer": "ipython3",
   "version": "3.6.8"
  }
 },
 "nbformat": 4,
 "nbformat_minor": 2
}
