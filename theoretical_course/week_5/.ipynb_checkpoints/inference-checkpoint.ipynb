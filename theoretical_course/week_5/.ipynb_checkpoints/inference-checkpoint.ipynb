{
 "cells": [
  {
   "cell_type": "code",
   "execution_count": 1,
   "metadata": {},
   "outputs": [],
   "source": [
    "from hct66 import *\n",
    "from kmeans import *"
   ]
  },
  {
   "cell_type": "markdown",
   "metadata": {},
   "source": [
    "## 一、hct66数据集"
   ]
  },
  {
   "cell_type": "markdown",
   "metadata": {},
   "source": [
    "### 加载数据"
   ]
  },
  {
   "cell_type": "code",
   "execution_count": 6,
   "metadata": {},
   "outputs": [
    {
     "name": "stdout",
     "output_type": "stream",
     "text": [
      "torch.Size([10, 6])\n"
     ]
    }
   ],
   "source": [
    "image_data,image_label = generate_data()\n",
    "data_num = len(image_data)\n",
    "data = torch.empty((data_num, 6)).float()\n",
    "for i in range(data_num):\n",
    "    data[i] = get_feature(image_data[i]).view(6)\n",
    "    \n",
    "print(data.shape)\n"
   ]
  },
  {
   "cell_type": "markdown",
   "metadata": {},
   "source": [
    "### kmeans方法聚类结果"
   ]
  },
  {
   "cell_type": "code",
   "execution_count": 7,
   "metadata": {},
   "outputs": [
    {
     "name": "stdout",
     "output_type": "stream",
     "text": [
      "聚类中心点偏移程度:1.9930435419082642\n",
      "聚类中心点偏移程度:0.7731608748435974\n",
      "聚类中心点偏移程度:0.0\n",
      "数字:0聚类结果:2\n",
      "数字:1聚类结果:0\n",
      "数字:2聚类结果:2\n",
      "数字:3聚类结果:0\n",
      "数字:4聚类结果:2\n",
      "数字:5聚类结果:1\n",
      "数字:6聚类结果:1\n",
      "数字:7聚类结果:0\n",
      "数字:8聚类结果:2\n",
      "数字:9聚类结果:2\n"
     ]
    }
   ],
   "source": [
    "# 创建模型\n",
    "kmeans = KMeans(n_clusters=3, init_random=True)\n",
    "# 开始训练\n",
    "kmeans.fit(data)\n",
    "# 开始预测\n",
    "pred = kmeans.predict(data)\n",
    "for i in range(data_num):\n",
    "    print(\"数字:{}聚类结果:{}\".format(i, pred[i]))"
   ]
  },
  {
   "cell_type": "markdown",
   "metadata": {},
   "source": [
    "### kmeans++方法聚类结果"
   ]
  },
  {
   "cell_type": "code",
   "execution_count": 8,
   "metadata": {},
   "outputs": [
    {
     "name": "stdout",
     "output_type": "stream",
     "text": [
      "聚类中心点偏移程度:1.60173499584198\n",
      "聚类中心点偏移程度:0.0\n",
      "数字:0聚类结果:2\n",
      "数字:1聚类结果:0\n",
      "数字:2聚类结果:0\n",
      "数字:3聚类结果:0\n",
      "数字:4聚类结果:2\n",
      "数字:5聚类结果:1\n",
      "数字:6聚类结果:1\n",
      "数字:7聚类结果:0\n",
      "数字:8聚类结果:0\n",
      "数字:9聚类结果:2\n"
     ]
    }
   ],
   "source": [
    "# 创建模型\n",
    "kmeans = KMeans(n_clusters=3, init_random=False)\n",
    "# 开始训练\n",
    "kmeans.fit(data)\n",
    "# 开始预测\n",
    "pred = kmeans.predict(data)\n",
    "for i in range(data_num):\n",
    "    print(\"数字:{}聚类结果:{}\".format(i, pred[i]))"
   ]
  },
  {
   "cell_type": "markdown",
   "metadata": {},
   "source": [
    "### 结论：\n",
    "#### 两种方法只有数字8的聚类结果不一样，其他都一样"
   ]
  },
  {
   "cell_type": "markdown",
   "metadata": {},
   "source": [
    "## 二、mnist数据集"
   ]
  },
  {
   "cell_type": "markdown",
   "metadata": {},
   "source": [
    "### 加载数据集"
   ]
  },
  {
   "cell_type": "code",
   "execution_count": 12,
   "metadata": {},
   "outputs": [],
   "source": [
    "import sys\n",
    "sys.path.append('../week_4/')\n",
    "from data import load_mnist\n",
    "\n",
    "train_imgs, train_labels = load_mnist('../week_4/mnist', kind='train')\n",
    "test_imgs, test_labels = load_mnist('../week_4/mnist', kind='t10k')"
   ]
  },
  {
   "cell_type": "code",
   "execution_count": null,
   "metadata": {},
   "outputs": [],
   "source": [
    "kmeans = KMeans(n_clusters=10, init_random=False)\n",
    "# 开始训练\n",
    "kmeans.fit(data)\n",
    "# 开始预测\n",
    "pred = kmeans.predict(data)\n",
    "for i in range(data_num):\n",
    "    print(\"数字:{}聚类结果:{}\".format(i, pred[i]))"
   ]
  }
 ],
 "metadata": {
  "kernelspec": {
   "display_name": "Python 3",
   "language": "python",
   "name": "python3"
  },
  "language_info": {
   "codemirror_mode": {
    "name": "ipython",
    "version": 3
   },
   "file_extension": ".py",
   "mimetype": "text/x-python",
   "name": "python",
   "nbconvert_exporter": "python",
   "pygments_lexer": "ipython3",
   "version": "3.6.8"
  }
 },
 "nbformat": 4,
 "nbformat_minor": 2
}
