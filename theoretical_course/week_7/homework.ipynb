{
 "cells": [
  {
   "cell_type": "markdown",
   "metadata": {},
   "source": [
    "# 代码说明\n",
    "## 1. week7_homework_mnist_alexnet.py中包含了补充的flops计算代码，模型填空代码\n",
    "## 2. 下面的代码块主要用于显示参数量，flops等\n",
    "## 3. 模型没有训练完成（速度慢）"
   ]
  },
  {
   "cell_type": "code",
   "execution_count": 2,
   "metadata": {},
   "outputs": [],
   "source": [
    "from week7_homework_mnist_alexnet import *"
   ]
  },
  {
   "cell_type": "markdown",
   "metadata": {},
   "source": [
    "## 构建模型"
   ]
  },
  {
   "cell_type": "code",
   "execution_count": 3,
   "metadata": {},
   "outputs": [],
   "source": [
    "layers=[]\n",
    "# 完善alexnet的网络结构，填入其需要得参数\n",
    "# add conv1 \n",
    "# 填写输入，输出通道数\n",
    "conv1=nn.Conv2d( 3, 96, kernel_size = 11,stride=4,padding=2)\n",
    "layers.append(conv1)\n",
    "# 填写kernel_size 和stride\n",
    "pool2=nn.MaxPool2d(kernel_size=3 , stride=2 , padding=0,ceil_mode=True)\n",
    "layers.append(pool2)\n",
    "# add conv3 \n",
    "# 填写输入，输出通道数\n",
    "conv3=nn.Conv2d(  96,  256, kernel_size = 5,stride=1,padding=2)\n",
    "layers.append(conv3)\n",
    "pool4=nn.MaxPool2d(kernel_size=3, stride=2, padding=0)\n",
    "layers.append(pool4)\n",
    "# add conv5 \n",
    "# 填写输入，输出通道数\n",
    "conv5=nn.Conv2d( 256, 384, kernel_size = 3,stride=1,padding=1)\n",
    "layers.append(conv5)\n",
    "# 填写输入，输出通道数\n",
    "conv6=nn.Conv2d( 384, 384,kernel_size = 3,stride=1,padding=1)\n",
    "layers.append(conv6)\n",
    "# 填写输入，输出通道数\n",
    "conv7=nn.Conv2d( 384, 256,kernel_size = 3,stride=1,padding=1)\n",
    "layers.append(conv7)\n",
    "# 填写kernel_size 和stride\n",
    "pool8=nn.MaxPool2d(kernel_size=3 , stride=2 , padding=0)\n",
    "layers.append(pool8)\n",
    "# 填写输入，输出神经元数\n",
    "fc9 = nn.Linear( 9216, 4096)\n",
    "layers.append(fc9)\n",
    "fc10 = nn.Linear(4096, 4096)\n",
    "layers.append(fc10)\n",
    "fc11 = nn.Linear(4096, 10)\n",
    "layers.append(fc11)\n"
   ]
  },
  {
   "cell_type": "markdown",
   "metadata": {},
   "source": [
    "## 打印参数量"
   ]
  },
  {
   "cell_type": "code",
   "execution_count": 4,
   "metadata": {},
   "outputs": [
    {
     "name": "stdout",
     "output_type": "stream",
     "text": [
      "********************\n",
      "Conv2d(3, 96, kernel_size=(11, 11), stride=(4, 4), padding=(2, 2))\n",
      "layer[0] has tensor(34944) / tensor(34.1250)K / tensor(0.0333)M params\n",
      "Conv2d(96, 256, kernel_size=(5, 5), stride=(1, 1), padding=(2, 2))\n",
      "layer[2] has tensor(614656) / tensor(600.2500)K / tensor(0.5862)M params\n",
      "Conv2d(256, 384, kernel_size=(3, 3), stride=(1, 1), padding=(1, 1))\n",
      "layer[4] has tensor(885120) / tensor(864.3750)K / tensor(0.8441)M params\n",
      "Conv2d(384, 384, kernel_size=(3, 3), stride=(1, 1), padding=(1, 1))\n",
      "layer[5] has tensor(1327488) / tensor(1296.3750)K / tensor(1.2660)M params\n",
      "Conv2d(384, 256, kernel_size=(3, 3), stride=(1, 1), padding=(1, 1))\n",
      "layer[6] has tensor(884992) / tensor(864.2500)K / tensor(0.8440)M params\n",
      "Linear(in_features=9216, out_features=4096, bias=True)\n",
      "layer[8] has tensor(37752832) / tensor(36868.)K / tensor(36.0039)M params\n",
      "Linear(in_features=4096, out_features=4096, bias=True)\n",
      "layer[9] has tensor(16781312) / tensor(16388.)K / tensor(16.0039)M params\n",
      "Linear(in_features=4096, out_features=10, bias=True)\n",
      "layer[10] has tensor(40970) / tensor(40.0098)K / tensor(0.0391)M params\n",
      "alexnet has tensor(58322314) / tensor(56955.3828)K / tensor(55.6205)M params need to train\n",
      "********************\n"
     ]
    }
   ],
   "source": [
    "#打印出往略得参数量\n",
    "print_params_num(layers)"
   ]
  },
  {
   "cell_type": "markdown",
   "metadata": {},
   "source": [
    "## 加载数据集"
   ]
  },
  {
   "cell_type": "code",
   "execution_count": 7,
   "metadata": {},
   "outputs": [],
   "source": [
    "image_data_all, image_label_all = load_mnist('../week_4/mnist', kind='train')\n",
    "num = 100        # len(image_label_all)\n",
    "image_data=image_data_all[0:num] / 255.\n",
    "image_label=image_label_all[0:num]"
   ]
  },
  {
   "cell_type": "markdown",
   "metadata": {},
   "source": [
    "## 计算各个层的flops"
   ]
  },
  {
   "cell_type": "code",
   "execution_count": 8,
   "metadata": {},
   "outputs": [
    {
     "name": "stdout",
     "output_type": "stream",
     "text": [
      "feature map size:[100,3,224,224]\n",
      "Conv2d(3, 96, kernel_size=(11, 11), stride=(4, 4), padding=(2, 2))\n",
      "flops=10570560000.0 / 10080.87 M / 9.84 G \n",
      "time cost:0.9636041999999989 S\n",
      "Conv2d(96, 256, kernel_size=(5, 5), stride=(1, 1), padding=(2, 2))\n",
      "flops=44808422400.0 / 42732.64 M / 41.73 G \n",
      "time cost:1.9497473999999997 S,computer flops:21.403334254491575 \n",
      "Conv2d(256, 384, kernel_size=(3, 3), stride=(1, 1), padding=(1, 1))\n",
      "flops=14958528000.0 / 14265.56 M / 13.93 G \n",
      "time cost:0.6850670999999977 S,computer flops:20.33554787467939 \n",
      "Conv2d(384, 384, kernel_size=(3, 3), stride=(1, 1), padding=(1, 1))\n",
      "flops=22434547200.0 / 21395.25 M / 20.89 G \n",
      "time cost:0.9565613999999982 S,computer flops:21.84261277805744 \n",
      "Conv2d(384, 256, kernel_size=(3, 3), stride=(1, 1), padding=(1, 1))\n",
      "flops=14956364800.0 / 14263.50 M / 13.93 G \n",
      "time cost:0.7830422999999982 S,computer flops:17.788566687169197 \n",
      "sum_time_cost:5.338022399999993,sum_flops:107728422400.0,computer_flops:18.795333588115316 G\n"
     ]
    }
   ],
   "source": [
    "y = model(image_data,layers)"
   ]
  },
  {
   "cell_type": "markdown",
   "metadata": {},
   "source": [
    "## 训练之前模型准确率"
   ]
  },
  {
   "cell_type": "code",
   "execution_count": 9,
   "metadata": {},
   "outputs": [
    {
     "name": "stdout",
     "output_type": "stream",
     "text": [
      "初始的未训练时模型的acc=0.15\n"
     ]
    }
   ],
   "source": [
    "print(\"初始的未训练时模型的acc=%s\"%(get_acc(image_data,image_label,layers,80,100)))"
   ]
  },
  {
   "cell_type": "markdown",
   "metadata": {},
   "source": [
    "## 模型训练"
   ]
  },
  {
   "cell_type": "code",
   "execution_count": null,
   "metadata": {},
   "outputs": [
    {
     "name": "stdout",
     "output_type": "stream",
     "text": [
      "epoch=0,loss=tensor(2.3021, grad_fn=<NllLossBackward>)/10000000000000.0,train/test_acc:0.125/0.05\n",
      "epoch=1,loss=tensor(2.3022, grad_fn=<NllLossBackward>)/tensor(2.3021, grad_fn=<NllLossBackward>),train/test_acc:0.1875/0.05\n",
      "epoch=2,loss=tensor(2.3021, grad_fn=<NllLossBackward>)/tensor(2.3022, grad_fn=<NllLossBackward>),train/test_acc:0.2/0.0\n",
      "epoch=3,loss=tensor(2.3020, grad_fn=<NllLossBackward>)/tensor(2.3021, grad_fn=<NllLossBackward>),train/test_acc:0.15/0.05\n",
      "epoch=4,loss=tensor(2.3020, grad_fn=<NllLossBackward>)/tensor(2.3020, grad_fn=<NllLossBackward>),train/test_acc:0.1625/0.0\n",
      "epoch=5,loss=tensor(2.3019, grad_fn=<NllLossBackward>)/tensor(2.3020, grad_fn=<NllLossBackward>),train/test_acc:0.1625/0.05\n",
      "epoch=6,loss=tensor(2.3019, grad_fn=<NllLossBackward>)/tensor(2.3019, grad_fn=<NllLossBackward>),train/test_acc:0.15/0.05\n",
      "epoch=7,loss=tensor(2.3017, grad_fn=<NllLossBackward>)/tensor(2.3019, grad_fn=<NllLossBackward>),train/test_acc:0.1625/0.05\n",
      "epoch=8,loss=tensor(2.3017, grad_fn=<NllLossBackward>)/tensor(2.3017, grad_fn=<NllLossBackward>),train/test_acc:0.1625/0.05\n"
     ]
    }
   ],
   "source": [
    "lr = [0.1,0.01,0.001,0.001,0.0001, 0.0001]        #0.05,0.01,0.005,0.001] \n",
    "train_model(image_data,image_label,layers,lr)"
   ]
  },
  {
   "cell_type": "markdown",
   "metadata": {},
   "source": [
    "## 训练之后准确率"
   ]
  },
  {
   "cell_type": "code",
   "execution_count": 9,
   "metadata": {},
   "outputs": [
    {
     "name": "stdout",
     "output_type": "stream",
     "text": [
      "训练完成后模型的acc=0.823\n"
     ]
    }
   ],
   "source": [
    "print(\"训练完成后模型的acc=%s\"%(get_acc(image_data,image_label,layers,0,num)))"
   ]
  },
  {
   "cell_type": "code",
   "execution_count": null,
   "metadata": {},
   "outputs": [],
   "source": []
  }
 ],
 "metadata": {
  "kernelspec": {
   "display_name": "Python 3",
   "language": "python",
   "name": "python3"
  },
  "language_info": {
   "codemirror_mode": {
    "name": "ipython",
    "version": 3
   },
   "file_extension": ".py",
   "mimetype": "text/x-python",
   "name": "python",
   "nbconvert_exporter": "python",
   "pygments_lexer": "ipython3",
   "version": "3.6.8"
  }
 },
 "nbformat": 4,
 "nbformat_minor": 2
}
