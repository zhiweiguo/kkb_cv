{
 "cells": [
  {
   "cell_type": "code",
   "execution_count": 1,
   "metadata": {},
   "outputs": [],
   "source": [
    "import torch\n",
    "import torchvision\n",
    "import torchvision.transforms as transforms\n",
    "import torch.nn as nn\n",
    "import torch.nn.functional as F\n",
    "import torch.optim as optim\n",
    "import numpy as np"
   ]
  },
  {
   "cell_type": "markdown",
   "metadata": {},
   "source": [
    "## 模型结构定义"
   ]
  },
  {
   "cell_type": "code",
   "execution_count": 2,
   "metadata": {},
   "outputs": [],
   "source": [
    "class Net(nn.Module):\n",
    "    def __init__(self):\n",
    "        super(Net, self).__init__()\n",
    "        self.conv1 = nn.Conv2d(3, 6, 5)\n",
    "        self.pool = nn.MaxPool2d(2, 2)\n",
    "        self.conv2 = nn.Conv2d(6, 16, 5)\n",
    "        self.fc1 = nn.Linear(16 * 5 * 5, 120)\n",
    "        self.fc2 = nn.Linear(120, 84)\n",
    "        self.fc3 = nn.Linear(84, 10)\n",
    "\n",
    "    def forward(self, x):\n",
    "        x = self.pool(F.relu(self.conv1(x)))\n",
    "        x = self.pool(F.relu(self.conv2(x)))\n",
    "        x = x.view(-1, 16 * 5 * 5)\n",
    "        x = F.relu(self.fc1(x))\n",
    "        x = F.relu(self.fc2(x))\n",
    "        x = self.fc3(x)\n",
    "        return x"
   ]
  },
  {
   "cell_type": "markdown",
   "metadata": {},
   "source": [
    "## 加载cifar10数据集"
   ]
  },
  {
   "cell_type": "code",
   "execution_count": 7,
   "metadata": {},
   "outputs": [
    {
     "name": "stdout",
     "output_type": "stream",
     "text": [
      "Files already downloaded and verified\n"
     ]
    }
   ],
   "source": [
    "transform = transforms.Compose(\n",
    "    [transforms.ToTensor(),\n",
    "     transforms.Normalize((0.5, 0.5, 0.5), (0.5, 0.5, 0.5))])\n",
    "\n",
    "trainset = torchvision.datasets.CIFAR10(root='./data', train=True,\n",
    "                                        download=False, transform=transform)\n",
    "trainloader = torch.utils.data.DataLoader(trainset, batch_size=16,\n",
    "                                          shuffle=False, num_workers=4)\n",
    "\n",
    "testset = torchvision.datasets.CIFAR10(root='./data', train=False,\n",
    "                                       download=True, transform=transform)\n",
    "testloader = torch.utils.data.DataLoader(testset, batch_size=16,\n",
    "                                         shuffle=False, num_workers=4)\n",
    "\n",
    "classes = ('plane', 'car', 'bird', 'cat',\n",
    "           'deer', 'dog', 'frog', 'horse', 'ship', 'truck')\n"
   ]
  },
  {
   "cell_type": "markdown",
   "metadata": {},
   "source": [
    "## 创建模型对象和优化器\n",
    "### 1. 对比的优化器包括5个，分别为'SGD', 'Adam', 'RMSprop', 'Adadelta', 'Adagrad'\n",
    "### 2. 同时创建5个模型对象\n",
    "### 3. 采用交叉熵损失\n",
    "### 4. 所有优化器均设置相同的起始学习率，lr均设置为0.001"
   ]
  },
  {
   "cell_type": "code",
   "execution_count": 8,
   "metadata": {},
   "outputs": [],
   "source": [
    "# loss func\n",
    "criterion = nn.CrossEntropyLoss()\n",
    "\n",
    "# models and optims\n",
    "optim_name = ['SGD', 'Adam', 'RMSprop', 'Adadelta', 'Adagrad']\n",
    "model_list = []\n",
    "for i in range(len(optim_name)):\n",
    "    model_list.append(Net())\n",
    "\n",
    "optim_list = []\n",
    "# SGD\n",
    "optim_SGD = optim.SGD(model_list[0].parameters(), lr=0.001)\n",
    "optim_list.append(optim_SGD)\n",
    "# Adam\n",
    "optim_Adam = optim.Adam(model_list[1].parameters(), lr=0.001)\n",
    "optim_list.append(optim_Adam)\n",
    "# RMSProp\n",
    "optim_RMSprop = optim.RMSprop(model_list[2].parameters(), lr=0.001)\n",
    "optim_list.append(optim_RMSprop)\n",
    "# Adadelta\n",
    "optim_Adadelta = optim.Adadelta(model_list[3].parameters(), lr=0.001)\n",
    "optim_list.append(optim_Adadelta)\n",
    "# Adagrad\n",
    "optim_Adagrad = optim.Adagrad(model_list[4].parameters(), lr=0.001) \n",
    "optim_list.append(optim_Adagrad)\n"
   ]
  },
  {
   "cell_type": "markdown",
   "metadata": {},
   "source": [
    "## 定义训练epoch数， 5个模型同时训练，每个epoch结束打印loss"
   ]
  },
  {
   "cell_type": "code",
   "execution_count": 9,
   "metadata": {},
   "outputs": [],
   "source": [
    "epoch_num = 20\n",
    "loss_matrix = np.zeros((len(optim_name), epoch_num))"
   ]
  },
  {
   "cell_type": "code",
   "execution_count": 10,
   "metadata": {},
   "outputs": [
    {
     "name": "stdout",
     "output_type": "stream",
     "text": [
      "Start Training\n",
      "[epoch:1]\n",
      "     loss:2.3031483218550837, optim:SGD\n",
      "     loss:1.5599472677089494, optim:Adam\n",
      "     loss:1.5493894013911296, optim:RMSprop\n",
      "     loss:2.304090323124591, optim:Adadelta\n",
      "     loss:1.975571571483197, optim:Adagrad\n",
      "[epoch:2]\n",
      "     loss:2.296751737518286, optim:SGD\n",
      "     loss:1.2733355504335424, optim:Adam\n",
      "     loss:1.2719583066034867, optim:RMSprop\n",
      "     loss:2.298562913255411, optim:Adadelta\n",
      "     loss:1.87087541715589, optim:Adagrad\n",
      "[epoch:3]\n",
      "     loss:2.2690851154919622, optim:SGD\n",
      "     loss:1.1560735161894415, optim:Adam\n",
      "     loss:1.1327467944172525, optim:RMSprop\n",
      "     loss:2.2867451795542593, optim:Adadelta\n",
      "     loss:1.8258693418185323, optim:Adagrad\n",
      "[epoch:4]\n",
      "     loss:2.1917156023802127, optim:SGD\n",
      "     loss:1.076387825909711, optim:Adam\n",
      "     loss:1.0338856950688453, optim:RMSprop\n",
      "     loss:2.2583659968974494, optim:Adadelta\n",
      "     loss:1.7896075998164627, optim:Adagrad\n",
      "[epoch:5]\n",
      "     loss:2.0854890232049548, optim:SGD\n",
      "     loss:1.0135511721218442, optim:Adam\n",
      "     loss:0.9585894841877278, optim:RMSprop\n",
      "     loss:2.205686051012154, optim:Adadelta\n",
      "     loss:1.7578688955719126, optim:Adagrad\n",
      "[epoch:6]\n",
      "     loss:1.9809786258754292, optim:SGD\n",
      "     loss:0.9618336736068378, optim:Adam\n",
      "     loss:0.9009737904575891, optim:RMSprop\n",
      "     loss:2.149762392158545, optim:Adadelta\n",
      "     loss:1.7297955839948373, optim:Adagrad\n",
      "[epoch:7]\n",
      "     loss:1.9147071904775885, optim:SGD\n",
      "     loss:0.9229363922635511, optim:Adam\n",
      "     loss:0.8503507276598684, optim:RMSprop\n",
      "     loss:2.112027119659126, optim:Adadelta\n",
      "     loss:1.70514887891872, optim:Adagrad\n",
      "[epoch:8]\n",
      "     loss:1.8406799780574559, optim:SGD\n",
      "     loss:0.8865927818222937, optim:Adam\n",
      "     loss:0.810777332018417, optim:RMSprop\n",
      "     loss:2.0855766964096114, optim:Adadelta\n",
      "     loss:1.6833948089661275, optim:Adagrad\n",
      "[epoch:9]\n",
      "     loss:1.7568096520042908, optim:SGD\n",
      "     loss:0.8591115582500621, optim:Adam\n",
      "     loss:0.7749839858909193, optim:RMSprop\n",
      "     loss:2.0630516222130777, optim:Adadelta\n",
      "     loss:1.664440747832214, optim:Adagrad\n",
      "[epoch:10]\n",
      "     loss:1.6775587981473774, optim:SGD\n",
      "     loss:0.8304327712531432, optim:Adam\n",
      "     loss:0.7469819312683866, optim:RMSprop\n",
      "     loss:2.041872298328275, optim:Adadelta\n",
      "     loss:1.6479764670400705, optim:Adagrad\n",
      "[epoch:11]\n",
      "     loss:1.6117005663782016, optim:SGD\n",
      "     loss:0.8075662310379492, optim:Adam\n",
      "     loss:0.7191567517931498, optim:RMSprop\n",
      "     loss:2.0217875323512335, optim:Adadelta\n",
      "     loss:1.6334860201605457, optim:Adagrad\n",
      "[epoch:12]\n",
      "     loss:1.5542165450036296, optim:SGD\n",
      "     loss:0.7852294850431468, optim:Adam\n",
      "     loss:0.6958883612317709, optim:RMSprop\n",
      "     loss:2.0029789155561395, optim:Adadelta\n",
      "     loss:1.6206451607498409, optim:Adagrad\n",
      "[epoch:13]\n",
      "     loss:1.512007602217408, optim:SGD\n",
      "     loss:0.767432098123084, optim:Adam\n",
      "     loss:0.6721096313015943, optim:RMSprop\n",
      "     loss:1.986013594342255, optim:Adadelta\n",
      "     loss:1.6091272569954318, optim:Adagrad\n",
      "[epoch:14]\n",
      "     loss:1.4812368353335104, optim:SGD\n",
      "     loss:0.74721672713623, optim:Adam\n",
      "     loss:0.6567300273971238, optim:RMSprop\n",
      "     loss:1.971209441730216, optim:Adadelta\n",
      "     loss:1.5987307406036557, optim:Adagrad\n",
      "[epoch:15]\n",
      "     loss:1.4558431692946125, optim:SGD\n",
      "     loss:0.725482873933416, optim:Adam\n",
      "     loss:0.6380119272024775, optim:RMSprop\n",
      "     loss:1.9583650862514286, optim:Adadelta\n",
      "     loss:1.5893046017760046, optim:Adagrad\n",
      "[epoch:16]\n",
      "     loss:1.4333865988651402, optim:SGD\n",
      "     loss:0.7112459061230877, optim:Adam\n",
      "     loss:0.6209418330026765, optim:RMSprop\n",
      "     loss:1.9470854468748604, optim:Adadelta\n",
      "     loss:1.5807023640249815, optim:Adagrad\n",
      "[epoch:17]\n",
      "     loss:1.412521160041935, optim:SGD\n",
      "     loss:0.6975851289536827, optim:Adam\n",
      "     loss:0.6102365525522855, optim:RMSprop\n",
      "     loss:1.9367886996147117, optim:Adadelta\n",
      "     loss:1.572824021307668, optim:Adagrad\n",
      "[epoch:18]\n",
      "     loss:1.392740498393507, optim:SGD\n",
      "     loss:0.6884064246946886, optim:Adam\n",
      "     loss:0.5952725292525699, optim:RMSprop\n",
      "     loss:1.9270260147034892, optim:Adadelta\n",
      "     loss:1.5655772110754946, optim:Adagrad\n",
      "[epoch:19]\n",
      "     loss:1.3738074366780768, optim:SGD\n",
      "     loss:0.6740837030961785, optim:Adam\n",
      "     loss:0.5786953143174456, optim:RMSprop\n",
      "     loss:1.9175981777730886, optim:Adadelta\n",
      "     loss:1.5588994914148284, optim:Adagrad\n",
      "[epoch:20]\n",
      "     loss:1.3556617494581908, optim:SGD\n",
      "     loss:0.6621376764453786, optim:Adam\n",
      "     loss:0.5693552551335547, optim:RMSprop\n",
      "     loss:1.9083555519733477, optim:Adadelta\n",
      "     loss:1.5527434167422345, optim:Adagrad\n",
      "Finished Training\n"
     ]
    }
   ],
   "source": [
    "print('Start Training')\n",
    "for epoch in range(epoch_num):  # loop over the dataset multiple times\n",
    "    iter_num = 0\n",
    "    running_loss = 0.0\n",
    "    for i, data in enumerate(trainloader, 0):\n",
    "        iter_num = i\n",
    "        # get the inputs; data is a list of [inputs, labels]\n",
    "        inputs, labels = data\n",
    "\n",
    "#         # zero the parameter gradients\n",
    "#         optimizer.zero_grad()\n",
    "#         # forward + backward + optimize\n",
    "#         outputs = net(inputs)\n",
    "#         loss = criterion(outputs, labels)\n",
    "#         loss.backward()\n",
    "#         optimizer.step()\n",
    "\n",
    "        # 同步训练所有模型\n",
    "        for j in range(len(optim_name)):\n",
    "            optim_list[j].zero_grad()\n",
    "            outputs = model_list[j](inputs)\n",
    "            loss = criterion(outputs, labels)\n",
    "            loss.backward()\n",
    "            optim_list[j].step()\n",
    "            loss_matrix[j, epoch] += loss.item()\n",
    "                   \n",
    "        #print('[epoch:%d, iter:%5d] loss: %.3f optim: %s' %\n",
    "        #          (epoch + 1, i + 1, loss.item(), optim_name[j]))\n",
    "    loss_matrix[:, epoch] /= iter_num\n",
    "    print(\"[epoch:{}]\".format(epoch+1))\n",
    "    for idx in range(len(optim_name)):\n",
    "        print(\"     loss:{}, optim:{}\".format(loss_matrix[idx, epoch], optim_name[idx]))\n",
    "   \n",
    "print('Finished Training')"
   ]
  },
  {
   "cell_type": "markdown",
   "metadata": {},
   "source": [
    "## 模型保存"
   ]
  },
  {
   "cell_type": "code",
   "execution_count": 11,
   "metadata": {},
   "outputs": [],
   "source": [
    "for idx in range(len(optim_name)):\n",
    "    PATH = './cifar_net_{}.pth'.format(optim_name[idx])\n",
    "    torch.save(model_list[idx].state_dict(), PATH)"
   ]
  },
  {
   "cell_type": "markdown",
   "metadata": {},
   "source": [
    "## 画loss图，对比5个模型训练过程的loss变化情况\n",
    "## 结论： \n",
    "### 1. 可以看出，效果最好的是Adam和RMSprop，且loss下降最快，变化趋势很接近\n",
    "### 2. SGD在该训练方式下loss下降缓慢，效果最差"
   ]
  },
  {
   "cell_type": "code",
   "execution_count": 32,
   "metadata": {},
   "outputs": [
    {
     "data": {
      "image/png": "[encoded data removed]",
      "text/plain": [
       "<Figure size 432x288 with 1 Axes>"
      ]
     },
     "metadata": {
      "needs_background": "light"
     },
     "output_type": "display_data"
    }
   ],
   "source": [
    "import matplotlib.pyplot as plt\n",
    "\n",
    "colors = ['red', 'green', 'blue', 'black', 'yellow']\n",
    "x = np.array(range(20)) + 1\n",
    "plt.figure()\n",
    "plt.title(\"loss\")\n",
    "for idx in range(len(optim_name)):\n",
    "    plt.plot(x, loss_matrix[idx, :], color = colors[idx], label=optim_name[idx])\n",
    "plt.legend(loc=0)\n",
    "plt.xlabel('epoch')\n",
    "plt.ylabel('loss')\n",
    "plt.xticks(x)\n",
    "plt.ylim(ymin=0.5, ymax=3)\n",
    "plt.savefig('loss.jpg')\n",
    "plt.show()\n"
   ]
  },
  {
   "cell_type": "markdown",
   "metadata": {},
   "source": [
    "## 整体对比5个模型的准确率情况"
   ]
  },
  {
   "cell_type": "code",
   "execution_count": 23,
   "metadata": {},
   "outputs": [
    {
     "name": "stdout",
     "output_type": "stream",
     "text": [
      "Accuracy of the network on the 10000 test images:\n",
      "Acc: 51.28 %, optim: SGD\n",
      "Acc: 58.16 %, optim: Adam\n",
      "Acc: 61.05 %, optim: RMSprop\n",
      "Acc: 31.85 %, optim: Adadelta\n",
      "Acc: 44.76 %, optim: Adagrad\n"
     ]
    }
   ],
   "source": [
    "#在整个数据集上测试\n",
    "correct = np.zeros(5)\n",
    "total = np.zeros(5)\n",
    "with torch.no_grad():\n",
    "    for data in testloader:\n",
    "        images, labels = data\n",
    "        for idx in range(len(optim_name)):\n",
    "            outputs = model_list[idx](images)\n",
    "            _, predicted = torch.max(outputs.data, 1)\n",
    "            total[idx] += labels.size(0)\n",
    "            correct[idx] += (predicted == labels).sum().item()\n",
    "\n",
    "print('Accuracy of the network on the 10000 test images:')\n",
    "acc = 100 * correct / total\n",
    "for idx in range(len(optim_name)):\n",
    "    print(\"Acc: {} %, optim: {}\".format(acc[idx], optim_name[idx]))"
   ]
  },
  {
   "cell_type": "markdown",
   "metadata": {},
   "source": [
    "## 计算5个模型各个类别的准确率"
   ]
  },
  {
   "cell_type": "code",
   "execution_count": 24,
   "metadata": {},
   "outputs": [
    {
     "name": "stdout",
     "output_type": "stream",
     "text": [
      "optim:SGD\n",
      "    Accuracy of plane : 48 %\n",
      "    Accuracy of   car : 76 %\n",
      "    Accuracy of  bird : 27 %\n",
      "    Accuracy of   cat : 27 %\n",
      "    Accuracy of  deer : 38 %\n",
      "    Accuracy of   dog : 42 %\n",
      "    Accuracy of  frog : 64 %\n",
      "    Accuracy of horse : 72 %\n",
      "    Accuracy of  ship : 63 %\n",
      "    Accuracy of truck : 56 %\n",
      "optim:Adam\n",
      "    Accuracy of plane : 63 %\n",
      "    Accuracy of   car : 76 %\n",
      "    Accuracy of  bird : 38 %\n",
      "    Accuracy of   cat : 44 %\n",
      "    Accuracy of  deer : 43 %\n",
      "    Accuracy of   dog : 49 %\n",
      "    Accuracy of  frog : 64 %\n",
      "    Accuracy of horse : 62 %\n",
      "    Accuracy of  ship : 75 %\n",
      "    Accuracy of truck : 58 %\n",
      "optim:RMSprop\n",
      "    Accuracy of plane : 66 %\n",
      "    Accuracy of   car : 75 %\n",
      "    Accuracy of  bird : 41 %\n",
      "    Accuracy of   cat : 44 %\n",
      "    Accuracy of  deer : 50 %\n",
      "    Accuracy of   dog : 48 %\n",
      "    Accuracy of  frog : 73 %\n",
      "    Accuracy of horse : 67 %\n",
      "    Accuracy of  ship : 72 %\n",
      "    Accuracy of truck : 73 %\n",
      "optim:Adadelta\n",
      "    Accuracy of plane : 53 %\n",
      "    Accuracy of   car : 35 %\n",
      "    Accuracy of  bird :  1 %\n",
      "    Accuracy of   cat : 14 %\n",
      "    Accuracy of  deer : 14 %\n",
      "    Accuracy of   dog : 31 %\n",
      "    Accuracy of  frog : 59 %\n",
      "    Accuracy of horse : 38 %\n",
      "    Accuracy of  ship : 36 %\n",
      "    Accuracy of truck : 41 %\n",
      "optim:Adagrad\n",
      "    Accuracy of plane : 51 %\n",
      "    Accuracy of   car : 61 %\n",
      "    Accuracy of  bird : 21 %\n",
      "    Accuracy of   cat : 27 %\n",
      "    Accuracy of  deer : 29 %\n",
      "    Accuracy of   dog : 40 %\n",
      "    Accuracy of  frog : 63 %\n",
      "    Accuracy of horse : 52 %\n",
      "    Accuracy of  ship : 55 %\n",
      "    Accuracy of truck : 49 %\n"
     ]
    }
   ],
   "source": [
    "class_correct = np.zeros((5,10))      # list(0. for i in range(10))\n",
    "class_total = np.zeros((5,10))        # list(0. for i in range(10))\n",
    "with torch.no_grad():\n",
    "    for data in testloader:\n",
    "        images, labels = data\n",
    "        for idx in range(len(optim_name)):\n",
    "            outputs = model_list[idx](images)\n",
    "            _, predicted = torch.max(outputs, 1)\n",
    "            c = (predicted == labels).squeeze()\n",
    "            for i in range(4):\n",
    "                label = labels[i]\n",
    "                class_correct[idx, label] += c[i].item()\n",
    "                class_total[idx, label] += 1\n",
    "\n",
    "for idx in range(5):\n",
    "    print(\"optim:{}\".format(optim_name[idx]))\n",
    "    for i in range(10):\n",
    "        print('    Accuracy of %5s : %2d %%' % (classes[i], 100 * class_correct[idx, i] / class_total[idx, i]))"
   ]
  },
  {
   "cell_type": "markdown",
   "metadata": {},
   "source": [
    "## 统计5个模型中准确率最高和最低的类别"
   ]
  },
  {
   "cell_type": "code",
   "execution_count": 30,
   "metadata": {},
   "outputs": [
    {
     "name": "stdout",
     "output_type": "stream",
     "text": [
      "optim:SGD\n",
      "    准确率最高的类别: car, 准确率:77 %\n",
      "    准确率最低的类别: bird, 准确率:27 %\n",
      "optim:Adam\n",
      "    准确率最高的类别: car, 准确率:77 %\n",
      "    准确率最低的类别: bird, 准确率:39 %\n",
      "optim:RMSprop\n",
      "    准确率最高的类别: car, 准确率:76 %\n",
      "    准确率最低的类别: bird, 准确率:41 %\n",
      "optim:Adadelta\n",
      "    准确率最高的类别: frog, 准确率:60 %\n",
      "    准确率最低的类别: bird, 准确率:2 %\n",
      "optim:Adagrad\n",
      "    准确率最高的类别: frog, 准确率:63 %\n",
      "    准确率最低的类别: bird, 准确率:22 %\n"
     ]
    }
   ],
   "source": [
    "acc_matrix = class_correct / class_total * 100\n",
    "for idx in range(5):\n",
    "    print(\"optim:{}\".format(optim_name[idx]))\n",
    "    print(\"    准确率最高的类别: {}, 准确率:{:.0f} %\".format(classes[np.argmax(acc_matrix[idx,:])], np.max(acc_matrix[idx,:])))\n",
    "    print(\"    准确率最低的类别: {}, 准确率:{:.0f} %\".format(classes[np.argmin(acc_matrix[idx,:])], np.min(acc_matrix[idx,:])))"
   ]
  }
 ],
 "metadata": {
  "kernelspec": {
   "display_name": "Python 3",
   "language": "python",
   "name": "python3"
  },
  "language_info": {
   "codemirror_mode": {
    "name": "ipython",
    "version": 3
   },
   "file_extension": ".py",
   "mimetype": "text/x-python",
   "name": "python",
   "nbconvert_exporter": "python",
   "pygments_lexer": "ipython3",
   "version": "3.6.8"
  }
 },
 "nbformat": 4,
 "nbformat_minor": 2
}
