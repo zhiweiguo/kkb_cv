{
 "cells": [
  {
   "cell_type": "markdown",
   "metadata": {},
   "source": [
    "### jupyter版本的MyResNet,与该目录下python版本代码一致"
   ]
  },
  {
   "cell_type": "code",
   "execution_count": 3,
   "metadata": {},
   "outputs": [],
   "source": [
    "import torch\n",
    "import torch.nn as nn\n",
    "from torchvision.models.utils import load_state_dict_from_url\n",
    "from PIL import Image\n",
    "from torchvision import transforms\n",
    "from torchvision import models"
   ]
  },
  {
   "cell_type": "markdown",
   "metadata": {},
   "source": [
    "### 模型名称及对应的预训练模型下载链接"
   ]
  },
  {
   "cell_type": "code",
   "execution_count": 4,
   "metadata": {},
   "outputs": [],
   "source": [
    "__all__ = ['ResNet', 'resnet18', 'resnet34', 'resnet50', 'resnet101',\n",
    "           'resnet152', 'resnext50_32x4d', 'resnext101_32x8d',\n",
    "           'wide_resnet50_2', 'wide_resnet101_2']\n",
    "\n",
    "\n",
    "model_urls = {\n",
    "    'resnet18': 'https://download.pytorch.org/models/resnet18-5c106cde.pth',\n",
    "    'resnet34': 'https://download.pytorch.org/models/resnet34-333f7ec4.pth',\n",
    "    'resnet50': 'https://download.pytorch.org/models/resnet50-19c8e357.pth',\n",
    "    'resnet101': 'https://download.pytorch.org/models/resnet101-5d3b4d8f.pth',\n",
    "    'resnet152': 'https://download.pytorch.org/models/resnet152-b121ed2d.pth',\n",
    "    'resnext50_32x4d': 'https://download.pytorch.org/models/resnext50_32x4d-7cdf4587.pth',\n",
    "    'resnext101_32x8d': 'https://download.pytorch.org/models/resnext101_32x8d-8ba56ff5.pth',\n",
    "    'wide_resnet50_2': 'https://download.pytorch.org/models/wide_resnet50_2-95faca4d.pth',\n",
    "    'wide_resnet101_2': 'https://download.pytorch.org/models/wide_resnet101_2-32ee1156.pth',\n",
    "}\n"
   ]
  },
  {
   "cell_type": "markdown",
   "metadata": {},
   "source": [
    "### 基础的1X1, 3X3卷积接口定义"
   ]
  },
  {
   "cell_type": "code",
   "execution_count": 5,
   "metadata": {},
   "outputs": [],
   "source": [
    "def conv_3X3(in_channels, out_channels, stride=1, padding=1, bias=False):\n",
    "    # resnet中的卷积之后都有bn操作，bias可以省去，以此节省参数量\n",
    "    return nn.Conv2d(in_channels, out_channels, kernel_size=3, stride=stride, padding=padding, bias=bias)\n",
    "\n",
    "def conv_1X1(in_channels, out_channels, stride=1, bias=False):\n",
    "    # resnet中的卷积之后都有bn操作，bias可以省去，以此节省参数量\n",
    "    return nn.Conv2d(in_channels, out_channels, kernel_size=1, stride=stride, bias=bias)\n"
   ]
  },
  {
   "cell_type": "markdown",
   "metadata": {},
   "source": [
    "### ResNet152中使用的的block定义，及bottlenet"
   ]
  },
  {
   "cell_type": "code",
   "execution_count": 6,
   "metadata": {},
   "outputs": [],
   "source": [
    "class BottleNeck(nn.Module):\n",
    "    expansion = 4\n",
    "\n",
    "    def __init__(self, in_channels, out_channels, stride=1, downsample=None, norm_layer=None):\n",
    "        super(BottleNeck, self).__init__()\n",
    "        if norm_layer is None:\n",
    "            norm_layer = nn.BatchNorm2d\n",
    "        self.conv1 = conv_1X1(in_channels, out_channels)\n",
    "        self.bn1   = norm_layer(out_channels)\n",
    "        self.conv2 = conv_3X3(out_channels, out_channels, stride)\n",
    "        self.bn2   = norm_layer(out_channels)\n",
    "        self.conv3 = conv_1X1(out_channels, out_channels*self.expansion)\n",
    "        self.bn3   = norm_layer(out_channels*self.expansion)\n",
    "        self.relu  = nn.ReLU(inplace=True)\n",
    "        self.stride= stride\n",
    "        self.downsample = downsample\n",
    "\n",
    "    def forward(self, x):\n",
    "        identity = x\n",
    "\n",
    "        out = self.conv1(x)\n",
    "        out = self.bn1(out)\n",
    "        out = self.relu(out)\n",
    "\n",
    "        out = self.conv2(out)\n",
    "        out = self.bn2(out)\n",
    "        out = self.relu(out)\n",
    "\n",
    "        out = self.conv3(out)\n",
    "        out = self.bn3(out)\n",
    "\n",
    "        if self.downsample is not None:\n",
    "            identity = self.downsample(x)\n",
    "        \n",
    "        out += identity\n",
    "        out = self.relu(out)\n",
    "\n",
    "        return out"
   ]
  },
  {
   "cell_type": "markdown",
   "metadata": {},
   "source": [
    "### MyResNet结构定义"
   ]
  },
  {
   "cell_type": "code",
   "execution_count": 7,
   "metadata": {},
   "outputs": [],
   "source": [
    "class MyResNet(nn.Module):\n",
    "\n",
    "    def __init__(self, block, layers, num_classes=1000, norm_layer=None):\n",
    "        super(MyResNet, self).__init__()\n",
    "        if norm_layer is None:\n",
    "            norm_layer = nn.BatchNorm2d\n",
    "        self._norm_layer = norm_layer\n",
    "        self.in_channels = 64\n",
    "\n",
    "        self.conv1 = nn.Conv2d(3, self.in_channels, kernel_size=7, stride=2, padding=3, bias=False)\n",
    "        self.bn1   = norm_layer(self.in_channels)\n",
    "        self.relu  = nn.ReLU(inplace=True)\n",
    "        \n",
    "        self.max_pool = nn.MaxPool2d(kernel_size=3, stride=2, padding=1)\n",
    "\n",
    "        self.layer1   = self._make_layer(block, 64, layers[0])\n",
    "        self.layer2   = self._make_layer(block, 128, layers[1], stride=2)\n",
    "        self.layer3   = self._make_layer(block, 256, layers[2], stride=2)\n",
    "        self.layer4   = self._make_layer(block, 512, layers[3], stride=2)\n",
    "\n",
    "        self.avg_pool = nn.AdaptiveAvgPool2d((1,1))\n",
    "        self.fc       = nn.Linear(512 * block.expansion, num_classes)\n",
    "\n",
    "        for m in self.modules():\n",
    "            if isinstance(m, nn.Conv2d):\n",
    "                nn.init.kaiming_normal_(m.weight, mode='fan_out', nonlinearity='relu')\n",
    "            elif isinstance(m, (nn.BatchNorm2d, nn.GroupNorm)):\n",
    "                nn.init.constant_(m.weight, 1)\n",
    "                nn.init.constant_(m.bias, 0)\n",
    "\n",
    "    def _make_layer(self, block, out_channels, blocks, stride=1):\n",
    "        norm_layer = self._norm_layer\n",
    "        downsample = None\n",
    "\n",
    "        if stride != 1 or self.in_channels != out_channels * block.expansion:\n",
    "            # 需要降采样\n",
    "            downsample = nn.Sequential(\n",
    "                conv_1X1(self.in_channels, out_channels * block.expansion, stride),\n",
    "                norm_layer(out_channels * block.expansion)\n",
    "            )\n",
    "        \n",
    "        layers = []\n",
    "        layers.append(block(self.in_channels, out_channels, stride=stride, downsample=downsample, norm_layer=norm_layer))\n",
    "        self.in_channels = out_channels * block.expansion\n",
    "        for _ in range(1, blocks):\n",
    "            layers.append(block(self.in_channels, out_channels, norm_layer=norm_layer))\n",
    "        \n",
    "        return nn.Sequential(*layers)\n",
    "\n",
    "\n",
    "    def forward(self, x):\n",
    "        x = self.conv1(x)\n",
    "        x = self.bn1(x)\n",
    "        x = self.relu(x)\n",
    "        x = self.max_pool(x)\n",
    "\n",
    "        x = self.layer1(x)\n",
    "        x = self.layer2(x)\n",
    "        x = self.layer3(x)\n",
    "        x = self.layer4(x)\n",
    "\n",
    "        x = self.avg_pool(x)\n",
    "        x = torch.flatten(x, 1)\n",
    "        x = self.fc(x)\n",
    "\n",
    "        return x"
   ]
  },
  {
   "cell_type": "markdown",
   "metadata": {},
   "source": [
    "### MyResNet调用接口定义"
   ]
  },
  {
   "cell_type": "code",
   "execution_count": 8,
   "metadata": {},
   "outputs": [],
   "source": [
    "# 函数接口定义\n",
    "def _resnet(arch, block, layers, pretrained, progress, **kwargs):\n",
    "    model = MyResNet(block, layers, **kwargs)\n",
    "    if pretrained:\n",
    "        print(\"开始下载预训练模型\")\n",
    "        state_dict = load_state_dict_from_url(model_urls[arch],\n",
    "                                              progress=progress)\n",
    "        model.load_state_dict(state_dict)\n",
    "        print(\"预训练模型参数加载完成\")\n",
    "    return model\n",
    "\n",
    "def resnet152(pretrained=False, progress=True, **kwargs):\n",
    "    r\"\"\"ResNet-152 model from\n",
    "    `\"Deep Residual Learning for Image Recognition\" <https://arxiv.org/pdf/1512.03385.pdf>`_\n",
    "    Args:\n",
    "        pretrained (bool): If True, returns a model pre-trained on ImageNet\n",
    "        progress (bool): If True, displays a progress bar of the download to stderr\n",
    "    \"\"\"\n",
    "    return _resnet('resnet152', BottleNeck, [3, 8, 36, 3], pretrained, progress,\n",
    "                   **kwargs)"
   ]
  },
  {
   "cell_type": "markdown",
   "metadata": {},
   "source": [
    "### 预处理接、推理接口定义"
   ]
  },
  {
   "cell_type": "code",
   "execution_count": 9,
   "metadata": {},
   "outputs": [],
   "source": [
    "def preprocess(filename):\n",
    "    input_image = Image.open(filename)\n",
    "    preprocess = transforms.Compose([\n",
    "        transforms.Resize(256),\n",
    "        transforms.CenterCrop(224),\n",
    "        transforms.ToTensor(),\n",
    "        transforms.Normalize(mean=[0.485, 0.456, 0.406], std=[0.229, 0.224, 0.225]),\n",
    "    ])\n",
    "    input_tensor = preprocess(input_image)\n",
    "    input_batch = input_tensor.unsqueeze(0) # create a mini-batch as expected by the model\n",
    "\n",
    "    return input_batch\n",
    "\n",
    "def inference(model, input_batch):\n",
    "    model.eval()\n",
    "    # move the input and model to GPU for speed if available\n",
    "    if torch.cuda.is_available():\n",
    "        input_batch = input_batch.to('cuda')\n",
    "        model.to('cuda')\n",
    "\n",
    "    with torch.no_grad():\n",
    "        output = model(input_batch)\n",
    "    # Tensor of shape 1000, with confidence scores over Imagenet's 1000 classes\n",
    "    print(output.shape)\n",
    "    #print(output[0])\n",
    "    # The output has unnormalized scores. To get probabilities, you can run a softmax on it.   \n",
    "    res_sftmx = torch.nn.functional.softmax(output[0], dim=0)\n",
    "    #print(\"softmax_res:{}\".format(result))\n",
    "    res = res_sftmx.argmax()\n",
    "    print(\"argmax_res:{}\".format(res))\n",
    "\n",
    "    return res, res_sftmx"
   ]
  },
  {
   "cell_type": "markdown",
   "metadata": {},
   "source": [
    "### 调用官方模型接口"
   ]
  },
  {
   "cell_type": "code",
   "execution_count": 10,
   "metadata": {},
   "outputs": [],
   "source": [
    "def get_official_model():\n",
    "    #model = torch.hub.load('pytorch/vision:v0.4.2', 'resnet152', pretrained=True)\n",
    "    model = models.resnet152(pretrained=False)      \n",
    "    model.load_state_dict(torch.load('C:/Users/Administrator/.cache/torch/checkpoints/resnet152-b121ed2d.pth'))\n",
    "    model.eval()\n",
    "    return model"
   ]
  },
  {
   "cell_type": "markdown",
   "metadata": {},
   "source": [
    "### 主程序验证"
   ]
  },
  {
   "cell_type": "code",
   "execution_count": 11,
   "metadata": {},
   "outputs": [
    {
     "name": "stdout",
     "output_type": "stream",
     "text": [
      "开始下载预训练模型\n",
      "预训练模型参数加载完成\n",
      "torch.Size([1, 1000])\n",
      "argmax_res:258\n",
      "自己实现ResNet152结果:258\n",
      "torch.Size([1, 1000])\n",
      "argmax_res:258\n",
      "官方实现ResNet152结果:258\n",
      "两种实现结果是否一致:True\n"
     ]
    }
   ],
   "source": [
    "# 加载图像数据\n",
    "# import urllib\n",
    "# url, filename = (\"https://github.com/pytorch/hub/raw/master/dog.jpg\", \"dog.jpg\")\n",
    "# try: urllib.URLopener().retrieve(url, filename)\n",
    "# except: urllib.request.urlretrieve(url, filename)\n",
    "filename = 'dog.jpg'\n",
    "# 预处理,得到输入数据\n",
    "input_batch = preprocess(filename)\n",
    "# 创建并加载模型预训练参数\n",
    "my_resnet = resnet152(pretrained=True, progress=True)\n",
    "res, res_sftmx = inference(my_resnet, input_batch)\n",
    "print(\"自己实现ResNet152结果:{}\".format(res))\n",
    "\n",
    "model = get_official_model()\n",
    "res_official, res_official_sftmx = inference(model, input_batch)\n",
    "print(\"官方实现ResNet152结果:{}\".format(res_official))\n",
    "\n",
    "isEqual = torch.equal(res_sftmx, res_official_sftmx)\n",
    "print(\"两种实现结果是否一致:{}\".format(isEqual))\n"
   ]
  },
  {
   "cell_type": "code",
   "execution_count": null,
   "metadata": {},
   "outputs": [],
   "source": []
  }
 ],
 "metadata": {
  "kernelspec": {
   "display_name": "Python 3",
   "language": "python",
   "name": "python3"
  },
  "language_info": {
   "codemirror_mode": {
    "name": "ipython",
    "version": 3
   },
   "file_extension": ".py",
   "mimetype": "text/x-python",
   "name": "python",
   "nbconvert_exporter": "python",
   "pygments_lexer": "ipython3",
   "version": "3.6.8"
  }
 },
 "nbformat": 4,
 "nbformat_minor": 2
}
