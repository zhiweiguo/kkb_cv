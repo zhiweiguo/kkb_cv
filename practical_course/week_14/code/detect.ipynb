{
 "cells": [
  {
   "cell_type": "code",
   "execution_count": 1,
   "metadata": {},
   "outputs": [],
   "source": [
    "from __future__ import division\n",
    "\n",
    "from models import *\n",
    "from utils.utils import *\n",
    "from utils.datasets import *\n",
    "\n",
    "import os\n",
    "import sys\n",
    "import time\n",
    "import datetime\n",
    "import argparse\n",
    "\n",
    "from PIL import Image\n",
    "\n",
    "import torch\n",
    "from torch.utils.data import DataLoader\n",
    "from torchvision import datasets\n",
    "from torch.autograd import Variable\n",
    "\n",
    "import matplotlib.pyplot as plt\n",
    "import matplotlib.patches as patches\n",
    "from matplotlib.ticker import NullLocator"
   ]
  },
  {
   "cell_type": "code",
   "execution_count": 5,
   "metadata": {},
   "outputs": [
    {
     "name": "stdout",
     "output_type": "stream",
     "text": [
      "Namespace(batch_size=1, checkpoint_model='checkpoints/yolov3_ckpt_9.pth', class_path='data/face_mask/face.names', conf_thres=0.8, image_folder='data/face_samples', img_size=416, j_cfile='/home/aim/.local/share/jupyter/runtime/kernel-a1fcdc2e-439d-4d13-966b-74cb798a6017.json', model_def='config/face_mask.cfg', n_cpu=0, nms_thres=0.4, weights_path='checkpoints/yolov3_ckpt_9.pth')\n",
      "\n",
      "Performing object detection:\n",
      "\t+ Batch 0, Inference Time: 0:00:00.195497\n",
      "\t+ Batch 1, Inference Time: 0:00:00.112694\n",
      "\t+ Batch 2, Inference Time: 0:00:00.092650\n",
      "\t+ Batch 3, Inference Time: 0:00:00.121957\n",
      "\t+ Batch 4, Inference Time: 0:00:00.115232\n",
      "\t+ Batch 5, Inference Time: 0:00:00.063449\n",
      "\t+ Batch 6, Inference Time: 0:00:00.062405\n",
      "\t+ Batch 7, Inference Time: 0:00:00.066487\n",
      "\t+ Batch 8, Inference Time: 0:00:00.057060\n",
      "\t+ Batch 9, Inference Time: 0:00:00.059150\n",
      "\t+ Batch 10, Inference Time: 0:00:00.051099\n",
      "\t+ Batch 11, Inference Time: 0:00:00.059483\n",
      "\t+ Batch 12, Inference Time: 0:00:00.085208\n",
      "\t+ Batch 13, Inference Time: 0:00:00.058501\n",
      "\n",
      "Saving images:\n",
      "(0) Image: 'data/face_samples/31_Waiter_Waitress_Waiter_Waitress_31_908.jpg'\n",
      "\t+ Label: face, Conf: 0.99877\n",
      "\t+ Label: face, Conf: 0.99791\n",
      "(1) Image: 'data/face_samples/31_Waiter_Waitress_Waiter_Waitress_31_915.jpg'\n",
      "\t+ Label: face, Conf: 0.98829\n",
      "\t+ Label: face, Conf: 0.98648\n",
      "\t+ Label: face, Conf: 0.98985\n",
      "\t+ Label: face, Conf: 0.98886\n",
      "\t+ Label: face, Conf: 0.98708\n",
      "\t+ Label: face, Conf: 0.98949\n",
      "\t+ Label: face, Conf: 0.98896\n",
      "(2) Image: 'data/face_samples/31_Waiter_Waitress_Waiter_Waitress_31_923.jpg'\n",
      "\t+ Label: face, Conf: 0.99906\n",
      "(3) Image: 'data/face_samples/31_Waiter_Waitress_Waiter_Waitress_31_925.jpg'\n",
      "\t+ Label: face, Conf: 0.99036\n",
      "(4) Image: 'data/face_samples/31_Waiter_Waitress_Waiter_Waitress_31_932.jpg'\n",
      "\t+ Label: face, Conf: 0.99640\n",
      "(5) Image: 'data/face_samples/test_00000290.jpg'\n",
      "\t+ Label: face_mask, Conf: 0.99390\n",
      "(6) Image: 'data/face_samples/test_00000291.jpg'\n",
      "\t+ Label: face_mask, Conf: 0.97857\n",
      "(7) Image: 'data/face_samples/test_00000297.jpg'\n",
      "\t+ Label: face_mask, Conf: 0.93459\n",
      "\t+ Label: face, Conf: 0.98686\n",
      "(8) Image: 'data/face_samples/test_00000298.jpg'\n",
      "\t+ Label: face_mask, Conf: 0.98241\n",
      "(9) Image: 'data/face_samples/test_00000331.jpg'\n",
      "\t+ Label: face_mask, Conf: 0.99038\n",
      "(10) Image: 'data/face_samples/test_00000365.jpg'\n",
      "\t+ Label: face_mask, Conf: 0.99023\n",
      "(11) Image: 'data/face_samples/test_00000367.jpg'\n",
      "\t+ Label: face_mask, Conf: 0.99664\n",
      "\t+ Label: face, Conf: 0.95369\n",
      "(12) Image: 'data/face_samples/test_00000409.jpg'\n",
      "\t+ Label: face_mask, Conf: 0.98643\n",
      "(13) Image: 'data/face_samples/test_00000410.jpg'\n",
      "\t+ Label: face_mask, Conf: 0.97851\n",
      "\t+ Label: face, Conf: 0.99510\n"
     ]
    },
    {
     "data": {
      "text/plain": [
       "<Figure size 432x288 with 0 Axes>"
      ]
     },
     "metadata": {},
     "output_type": "display_data"
    },
    {
     "data": {
      "text/plain": [
       "<Figure size 432x288 with 0 Axes>"
      ]
     },
     "metadata": {},
     "output_type": "display_data"
    },
    {
     "data": {
      "text/plain": [
       "<Figure size 432x288 with 0 Axes>"
      ]
     },
     "metadata": {},
     "output_type": "display_data"
    },
    {
     "data": {
      "text/plain": [
       "<Figure size 432x288 with 0 Axes>"
      ]
     },
     "metadata": {},
     "output_type": "display_data"
    },
    {
     "data": {
      "text/plain": [
       "<Figure size 432x288 with 0 Axes>"
      ]
     },
     "metadata": {},
     "output_type": "display_data"
    },
    {
     "data": {
      "text/plain": [
       "<Figure size 432x288 with 0 Axes>"
      ]
     },
     "metadata": {},
     "output_type": "display_data"
    },
    {
     "data": {
      "text/plain": [
       "<Figure size 432x288 with 0 Axes>"
      ]
     },
     "metadata": {},
     "output_type": "display_data"
    },
    {
     "data": {
      "text/plain": [
       "<Figure size 432x288 with 0 Axes>"
      ]
     },
     "metadata": {},
     "output_type": "display_data"
    },
    {
     "data": {
      "text/plain": [
       "<Figure size 432x288 with 0 Axes>"
      ]
     },
     "metadata": {},
     "output_type": "display_data"
    },
    {
     "data": {
      "text/plain": [
       "<Figure size 432x288 with 0 Axes>"
      ]
     },
     "metadata": {},
     "output_type": "display_data"
    },
    {
     "data": {
      "text/plain": [
       "<Figure size 432x288 with 0 Axes>"
      ]
     },
     "metadata": {},
     "output_type": "display_data"
    },
    {
     "data": {
      "text/plain": [
       "<Figure size 432x288 with 0 Axes>"
      ]
     },
     "metadata": {},
     "output_type": "display_data"
    },
    {
     "data": {
      "text/plain": [
       "<Figure size 432x288 with 0 Axes>"
      ]
     },
     "metadata": {},
     "output_type": "display_data"
    },
    {
     "data": {
      "text/plain": [
       "<Figure size 432x288 with 0 Axes>"
      ]
     },
     "metadata": {},
     "output_type": "display_data"
    }
   ],
   "source": [
    "parser = argparse.ArgumentParser()\n",
    "parser.add_argument(\"-f\", dest = 'j_cfile', help = \"jupyter config file\", default = \"file.json\", type = str)\n",
    "parser.add_argument(\"--image_folder\", type=str, default=\"data/face_samples\", help=\"path to dataset\")\n",
    "parser.add_argument(\"--model_def\", type=str, default=\"config/face_mask.cfg\", help=\"path to model definition file\")\n",
    "parser.add_argument(\"--weights_path\", type=str, default=\"checkpoints/yolov3_ckpt_9.pth\", help=\"path to weights file\")\n",
    "parser.add_argument(\"--class_path\", type=str, default=\"data/face_mask/face.names\", help=\"path to class label file\")\n",
    "parser.add_argument(\"--conf_thres\", type=float, default=0.8, help=\"object confidence threshold\")\n",
    "parser.add_argument(\"--nms_thres\", type=float, default=0.4, help=\"iou thresshold for non-maximum suppression\")\n",
    "parser.add_argument(\"--batch_size\", type=int, default=1, help=\"size of the batches\")\n",
    "parser.add_argument(\"--n_cpu\", type=int, default=0, help=\"number of cpu threads to use during batch generation\")\n",
    "parser.add_argument(\"--img_size\", type=int, default=416, help=\"size of each image dimension\")\n",
    "parser.add_argument(\"--checkpoint_model\", type=str, default='checkpoints/yolov3_ckpt_9.pth', help=\"v\")\n",
    "opt = parser.parse_args()\n",
    "print(opt)\n",
    "\n",
    "device = torch.device(\"cuda\" if torch.cuda.is_available() else \"cpu\")\n",
    "\n",
    "os.makedirs(\"output\", exist_ok=True)\n",
    "\n",
    "# Set up model\n",
    "model = Darknet(opt.model_def, img_size=opt.img_size).to(device)\n",
    "\n",
    "if opt.weights_path.endswith(\".weights\"):\n",
    "    # Load darknet weights\n",
    "    model.load_darknet_weights(opt.weights_path)\n",
    "else:\n",
    "    # Load checkpoint weights\n",
    "    model.load_state_dict(torch.load(opt.weights_path))\n",
    "\n",
    "model.eval()  # Set in evaluation mode\n",
    "\n",
    "dataloader = DataLoader(\n",
    "    ImageFolder(opt.image_folder, img_size=opt.img_size),\n",
    "    batch_size=opt.batch_size,\n",
    "    shuffle=False,\n",
    "    num_workers=opt.n_cpu,\n",
    ")\n",
    "\n",
    "classes = load_classes(opt.class_path)  # Extracts class labels from file\n",
    "\n",
    "Tensor = torch.cuda.FloatTensor if torch.cuda.is_available() else torch.FloatTensor\n",
    "\n",
    "imgs = []  # Stores image paths\n",
    "img_detections = []  # Stores detections for each image index\n",
    "\n",
    "print(\"\\nPerforming object detection:\")\n",
    "prev_time = time.time()\n",
    "for batch_i, (img_paths, input_imgs) in enumerate(dataloader):\n",
    "    # Configure input\n",
    "    input_imgs = Variable(input_imgs.type(Tensor))\n",
    "\n",
    "    # Get detections\n",
    "    with torch.no_grad():\n",
    "        detections = model(input_imgs)\n",
    "        detections = non_max_suppression(detections, opt.conf_thres, opt.nms_thres)\n",
    "\n",
    "    # Log progress\n",
    "    current_time = time.time()\n",
    "    inference_time = datetime.timedelta(seconds=current_time - prev_time)\n",
    "    prev_time = current_time\n",
    "    print(\"\\t+ Batch %d, Inference Time: %s\" % (batch_i, inference_time))\n",
    "\n",
    "    # Save image and detections\n",
    "    imgs.extend(img_paths)\n",
    "    img_detections.extend(detections)\n",
    "\n",
    "# Bounding-box colors\n",
    "cmap = plt.get_cmap(\"tab20b\")\n",
    "colors = [cmap(i) for i in np.linspace(0, 1, 20)]\n",
    "\n",
    "print(\"\\nSaving images:\")\n",
    "# Iterate through images and save plot of detections\n",
    "for img_i, (path, detections) in enumerate(zip(imgs, img_detections)):\n",
    "\n",
    "    print(\"(%d) Image: '%s'\" % (img_i, path))\n",
    "\n",
    "    # Create plot\n",
    "    img = np.array(Image.open(path))\n",
    "    plt.figure()\n",
    "    fig, ax = plt.subplots(1)\n",
    "    ax.imshow(img)\n",
    "\n",
    "    # Draw bounding boxes and labels of detections\n",
    "    if detections is not None:\n",
    "        # Rescale boxes to original image\n",
    "        detections = rescale_boxes(detections, opt.img_size, img.shape[:2])\n",
    "        unique_labels = detections[:, -1].cpu().unique()\n",
    "        n_cls_preds = len(unique_labels)\n",
    "        bbox_colors = random.sample(colors, n_cls_preds)\n",
    "        for x1, y1, x2, y2, conf, cls_conf, cls_pred in detections:\n",
    "\n",
    "            print(\"\\t+ Label: %s, Conf: %.5f\" % (classes[int(cls_pred)], cls_conf.item()))\n",
    "\n",
    "            box_w = x2 - x1\n",
    "            box_h = y2 - y1\n",
    "\n",
    "            color = bbox_colors[int(np.where(unique_labels == int(cls_pred))[0])]\n",
    "            # Create a Rectangle patch\n",
    "            bbox = patches.Rectangle((x1, y1), box_w, box_h, linewidth=2, edgecolor=color, facecolor=\"none\")\n",
    "            # Add the bbox to the plot\n",
    "            ax.add_patch(bbox)\n",
    "            # Add label\n",
    "            plt.text(\n",
    "                x1,\n",
    "                y1,\n",
    "                s=classes[int(cls_pred)],\n",
    "                color=\"white\",\n",
    "                verticalalignment=\"top\",\n",
    "                bbox={\"color\": color, \"pad\": 0},\n",
    "            )\n",
    "\n",
    "    # Save generated image with detections\n",
    "    plt.axis(\"off\")\n",
    "    plt.gca().xaxis.set_major_locator(NullLocator())\n",
    "    plt.gca().yaxis.set_major_locator(NullLocator())\n",
    "    filename = path.split(\"/\")[-1].split(\".\")[0]\n",
    "    plt.savefig(f\"output/{filename}.png\", bbox_inches=\"tight\", pad_inches=0.0)\n",
    "    plt.close()\n"
   ]
  },
  {
   "cell_type": "code",
   "execution_count": null,
   "metadata": {},
   "outputs": [],
   "source": []
  }
 ],
 "metadata": {
  "kernelspec": {
   "display_name": "Python 3",
   "language": "python",
   "name": "python3"
  },
  "language_info": {
   "codemirror_mode": {
    "name": "ipython",
    "version": 3
   },
   "file_extension": ".py",
   "mimetype": "text/x-python",
   "name": "python",
   "nbconvert_exporter": "python",
   "pygments_lexer": "ipython3",
   "version": "3.6.5"
  }
 },
 "nbformat": 4,
 "nbformat_minor": 4
}
