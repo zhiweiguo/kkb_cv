{
 "cells": [
  {
   "cell_type": "markdown",
   "metadata": {},
   "source": [
    "## 代码说明：\n",
    "### 1. 实现了resnext和SE module，对基础模块basicblock和bottleneck加入SE\n",
    "### 2. 并基于现有的ResNet代码结构增加了SE功能，通过同一个对象可以按需创建是否带SE的ResNet或resnext网络结构\n",
    "### 3. 封装了封装了两大类接口get_resnet()和get_resnext(), 可以通过入参创建是否带SE的各种规格resnet和resnext网络结构"
   ]
  },
  {
   "cell_type": "markdown",
   "metadata": {},
   "source": [
    "### 导入库"
   ]
  },
  {
   "cell_type": "code",
   "execution_count": 1,
   "metadata": {},
   "outputs": [],
   "source": [
    "#import myresnet\n",
    "from myresnet import *"
   ]
  },
  {
   "cell_type": "markdown",
   "metadata": {},
   "source": [
    "### 加载图片，并预处理"
   ]
  },
  {
   "cell_type": "code",
   "execution_count": 2,
   "metadata": {},
   "outputs": [],
   "source": [
    "filename = 'dog.jpg'\n",
    "# 预处理,得到输入数据\n",
    "input_batch = preprocess(filename)"
   ]
  },
  {
   "cell_type": "markdown",
   "metadata": {},
   "source": [
    "### 创建ResNet152，并与官方接口对比，验证模型正确性\n",
    "#### 结论： 与官方结果一致"
   ]
  },
  {
   "cell_type": "code",
   "execution_count": 4,
   "metadata": {},
   "outputs": [
    {
     "name": "stdout",
     "output_type": "stream",
     "text": [
      "torch.Size([1, 1000])\n",
      "argmax_res:258\n",
      "自己实现ResNet152结果:258\n",
      "torch.Size([1, 1000])\n",
      "argmax_res:258\n",
      "官方实现ResNet152结果:258\n",
      "两种实现结果是否一致:True\n"
     ]
    }
   ],
   "source": [
    "# 创建并加载模型预训练参数\n",
    "my_resnet152 = get_resnet(mode = 152, use_se = False, pretrained = False, progress = True)\n",
    "my_resnet152.load_state_dict(torch.load('C:/Users/Administrator/.cache/torch/checkpoints/'+'resnet152-b121ed2d.pth', map_location='cpu'))\n",
    "res, res_sftmx = inference(my_resnet152, input_batch)\n",
    "print(\"自己实现ResNet152结果:{}\".format(res))\n",
    "\n",
    "model_resnet152 = get_official_model('resnet152')\n",
    "res_official, res_official_sftmx = inference(model_resnet152, input_batch)\n",
    "print(\"官方实现ResNet152结果:{}\".format(res_official))\n",
    "\n",
    "isEqual = torch.equal(res_sftmx, res_official_sftmx)\n",
    "print(\"两种实现结果是否一致:{}\".format(isEqual))"
   ]
  },
  {
   "cell_type": "markdown",
   "metadata": {},
   "source": [
    "### 创建resnext101_32x8d，并与官方接口对比，验证模型正确性\n",
    "#### 创建方式：通过自己封装好的接口get_resnext()创建\n",
    "#### 结论： 与官方结果一致"
   ]
  },
  {
   "cell_type": "code",
   "execution_count": 6,
   "metadata": {},
   "outputs": [
    {
     "name": "stdout",
     "output_type": "stream",
     "text": [
      "torch.Size([1, 1000])\n",
      "argmax_res:258\n",
      "官方实现resnext101_32x8d结果:258\n",
      "torch.Size([1, 1000])\n",
      "argmax_res:258\n",
      "自己实现resnext101_32x8d结果:258\n",
      "两种实现结果是否一致:True\n"
     ]
    }
   ],
   "source": [
    "model = get_official_model('resnext101_32x8d')\n",
    "res_official, res_official_sftmx = inference(model, input_batch)\n",
    "print(\"官方实现resnext101_32x8d结果:{}\".format(res_official))\n",
    "\n",
    "my_resnext101 = get_resnext(mode=1, use_se=False, pretrained=False, progress=True)       \n",
    "#model_path = 'seresnext50_32x4d-0521-b0ce2520.pth'\n",
    "model_path = 'resnext101_32x8d-8ba56ff5.pth'\n",
    "base_path = 'C:/Users/Administrator/.cache/torch/checkpoints/'\n",
    "state_dict = torch.load(base_path + model_path, map_location='cpu')\n",
    "my_resnext101.load_state_dict(state_dict, strict=False)\n",
    "res, res_sftmx = inference(my_resnext101, input_batch)\n",
    "print(\"自己实现resnext101_32x8d结果:{}\".format(res))\n",
    "\n",
    "isEqual = torch.equal(res_sftmx, res_official_sftmx)\n",
    "print(\"两种实现结果是否一致:{}\".format(isEqual))\n"
   ]
  },
  {
   "cell_type": "markdown",
   "metadata": {},
   "source": [
    "### 创建SE-resnext50，并基于开源模型进行对比验证\n",
    "#### 创建方式：通过自己封装好的get_resnext()接口创建\n",
    "#### 开源模型repo：https://github.com/osmr/imgclsmob\n",
    "#### 结论：\n",
    "##### 1. 模型层数相等，都为384层\n",
    "##### 2. 其中36层参数不一致，原因为开源代码与自己代码在make_layer环节中基础block的代码实现顺序及结构不一致，主要为SE模块， 降采样模块"
   ]
  },
  {
   "cell_type": "code",
   "execution_count": 9,
   "metadata": {},
   "outputs": [
    {
     "name": "stdout",
     "output_type": "stream",
     "text": [
      "第1个不一致层:\n",
      "自己模型层名称:layer1.0.downsample.0.weight,参数形状:torch.Size([256, 64, 1, 1])\n",
      "开源模型层名称:features.stage1.unit1.se.conv1.weight,参数形状:torch.Size([16, 256, 1, 1])\n",
      "第2个不一致层:\n",
      "自己模型层名称:layer1.0.downsample.1.weight,参数形状:torch.Size([256])\n",
      "开源模型层名称:features.stage1.unit1.se.conv1.bias,参数形状:torch.Size([16])\n",
      "第3个不一致层:\n",
      "自己模型层名称:layer1.0.downsample.1.bias,参数形状:torch.Size([256])\n",
      "开源模型层名称:features.stage1.unit1.se.conv2.weight,参数形状:torch.Size([256, 16, 1, 1])\n",
      "第4个不一致层:\n",
      "自己模型层名称:layer1.0.downsample.1.running_var,参数形状:torch.Size([256])\n",
      "开源模型层名称:features.stage1.unit1.identity_conv.conv.weight,参数形状:torch.Size([256, 64, 1, 1])\n",
      "第5个不一致层:\n",
      "自己模型层名称:layer1.0.downsample.1.num_batches_tracked,参数形状:torch.Size([])\n",
      "开源模型层名称:features.stage1.unit1.identity_conv.bn.weight,参数形状:torch.Size([256])\n",
      "第6个不一致层:\n",
      "自己模型层名称:layer1.0.se_module.fc1.weight,参数形状:torch.Size([16, 256, 1, 1])\n",
      "开源模型层名称:features.stage1.unit1.identity_conv.bn.bias,参数形状:torch.Size([256])\n",
      "第7个不一致层:\n",
      "自己模型层名称:layer1.0.se_module.fc1.bias,参数形状:torch.Size([16])\n",
      "开源模型层名称:features.stage1.unit1.identity_conv.bn.running_mean,参数形状:torch.Size([256])\n",
      "第8个不一致层:\n",
      "自己模型层名称:layer1.0.se_module.fc2.weight,参数形状:torch.Size([256, 16, 1, 1])\n",
      "开源模型层名称:features.stage1.unit1.identity_conv.bn.running_var,参数形状:torch.Size([256])\n",
      "第9个不一致层:\n",
      "自己模型层名称:layer1.0.se_module.fc2.bias,参数形状:torch.Size([256])\n",
      "开源模型层名称:features.stage1.unit1.identity_conv.bn.num_batches_tracked,参数形状:torch.Size([])\n",
      "第10个不一致层:\n",
      "自己模型层名称:layer2.0.downsample.0.weight,参数形状:torch.Size([512, 256, 1, 1])\n",
      "开源模型层名称:features.stage2.unit1.se.conv1.weight,参数形状:torch.Size([32, 512, 1, 1])\n",
      "第11个不一致层:\n",
      "自己模型层名称:layer2.0.downsample.1.weight,参数形状:torch.Size([512])\n",
      "开源模型层名称:features.stage2.unit1.se.conv1.bias,参数形状:torch.Size([32])\n",
      "第12个不一致层:\n",
      "自己模型层名称:layer2.0.downsample.1.bias,参数形状:torch.Size([512])\n",
      "开源模型层名称:features.stage2.unit1.se.conv2.weight,参数形状:torch.Size([512, 32, 1, 1])\n",
      "第13个不一致层:\n",
      "自己模型层名称:layer2.0.downsample.1.running_var,参数形状:torch.Size([512])\n",
      "开源模型层名称:features.stage2.unit1.identity_conv.conv.weight,参数形状:torch.Size([512, 256, 1, 1])\n",
      "第14个不一致层:\n",
      "自己模型层名称:layer2.0.downsample.1.num_batches_tracked,参数形状:torch.Size([])\n",
      "开源模型层名称:features.stage2.unit1.identity_conv.bn.weight,参数形状:torch.Size([512])\n",
      "第15个不一致层:\n",
      "自己模型层名称:layer2.0.se_module.fc1.weight,参数形状:torch.Size([32, 512, 1, 1])\n",
      "开源模型层名称:features.stage2.unit1.identity_conv.bn.bias,参数形状:torch.Size([512])\n",
      "第16个不一致层:\n",
      "自己模型层名称:layer2.0.se_module.fc1.bias,参数形状:torch.Size([32])\n",
      "开源模型层名称:features.stage2.unit1.identity_conv.bn.running_mean,参数形状:torch.Size([512])\n",
      "第17个不一致层:\n",
      "自己模型层名称:layer2.0.se_module.fc2.weight,参数形状:torch.Size([512, 32, 1, 1])\n",
      "开源模型层名称:features.stage2.unit1.identity_conv.bn.running_var,参数形状:torch.Size([512])\n",
      "第18个不一致层:\n",
      "自己模型层名称:layer2.0.se_module.fc2.bias,参数形状:torch.Size([512])\n",
      "开源模型层名称:features.stage2.unit1.identity_conv.bn.num_batches_tracked,参数形状:torch.Size([])\n",
      "第19个不一致层:\n",
      "自己模型层名称:layer3.0.downsample.0.weight,参数形状:torch.Size([1024, 512, 1, 1])\n",
      "开源模型层名称:features.stage3.unit1.se.conv1.weight,参数形状:torch.Size([64, 1024, 1, 1])\n",
      "第20个不一致层:\n",
      "自己模型层名称:layer3.0.downsample.1.weight,参数形状:torch.Size([1024])\n",
      "开源模型层名称:features.stage3.unit1.se.conv1.bias,参数形状:torch.Size([64])\n",
      "第21个不一致层:\n",
      "自己模型层名称:layer3.0.downsample.1.bias,参数形状:torch.Size([1024])\n",
      "开源模型层名称:features.stage3.unit1.se.conv2.weight,参数形状:torch.Size([1024, 64, 1, 1])\n",
      "第22个不一致层:\n",
      "自己模型层名称:layer3.0.downsample.1.running_var,参数形状:torch.Size([1024])\n",
      "开源模型层名称:features.stage3.unit1.identity_conv.conv.weight,参数形状:torch.Size([1024, 512, 1, 1])\n",
      "第23个不一致层:\n",
      "自己模型层名称:layer3.0.downsample.1.num_batches_tracked,参数形状:torch.Size([])\n",
      "开源模型层名称:features.stage3.unit1.identity_conv.bn.weight,参数形状:torch.Size([1024])\n",
      "第24个不一致层:\n",
      "自己模型层名称:layer3.0.se_module.fc1.weight,参数形状:torch.Size([64, 1024, 1, 1])\n",
      "开源模型层名称:features.stage3.unit1.identity_conv.bn.bias,参数形状:torch.Size([1024])\n",
      "第25个不一致层:\n",
      "自己模型层名称:layer3.0.se_module.fc1.bias,参数形状:torch.Size([64])\n",
      "开源模型层名称:features.stage3.unit1.identity_conv.bn.running_mean,参数形状:torch.Size([1024])\n",
      "第26个不一致层:\n",
      "自己模型层名称:layer3.0.se_module.fc2.weight,参数形状:torch.Size([1024, 64, 1, 1])\n",
      "开源模型层名称:features.stage3.unit1.identity_conv.bn.running_var,参数形状:torch.Size([1024])\n",
      "第27个不一致层:\n",
      "自己模型层名称:layer3.0.se_module.fc2.bias,参数形状:torch.Size([1024])\n",
      "开源模型层名称:features.stage3.unit1.identity_conv.bn.num_batches_tracked,参数形状:torch.Size([])\n",
      "第28个不一致层:\n",
      "自己模型层名称:layer4.0.downsample.0.weight,参数形状:torch.Size([2048, 1024, 1, 1])\n",
      "开源模型层名称:features.stage4.unit1.se.conv1.weight,参数形状:torch.Size([128, 2048, 1, 1])\n",
      "第29个不一致层:\n",
      "自己模型层名称:layer4.0.downsample.1.weight,参数形状:torch.Size([2048])\n",
      "开源模型层名称:features.stage4.unit1.se.conv1.bias,参数形状:torch.Size([128])\n",
      "第30个不一致层:\n",
      "自己模型层名称:layer4.0.downsample.1.bias,参数形状:torch.Size([2048])\n",
      "开源模型层名称:features.stage4.unit1.se.conv2.weight,参数形状:torch.Size([2048, 128, 1, 1])\n",
      "第31个不一致层:\n",
      "自己模型层名称:layer4.0.downsample.1.running_var,参数形状:torch.Size([2048])\n",
      "开源模型层名称:features.stage4.unit1.identity_conv.conv.weight,参数形状:torch.Size([2048, 1024, 1, 1])\n",
      "第32个不一致层:\n",
      "自己模型层名称:layer4.0.downsample.1.num_batches_tracked,参数形状:torch.Size([])\n",
      "开源模型层名称:features.stage4.unit1.identity_conv.bn.weight,参数形状:torch.Size([2048])\n",
      "第33个不一致层:\n",
      "自己模型层名称:layer4.0.se_module.fc1.weight,参数形状:torch.Size([128, 2048, 1, 1])\n",
      "开源模型层名称:features.stage4.unit1.identity_conv.bn.bias,参数形状:torch.Size([2048])\n",
      "第34个不一致层:\n",
      "自己模型层名称:layer4.0.se_module.fc1.bias,参数形状:torch.Size([128])\n",
      "开源模型层名称:features.stage4.unit1.identity_conv.bn.running_mean,参数形状:torch.Size([2048])\n",
      "第35个不一致层:\n",
      "自己模型层名称:layer4.0.se_module.fc2.weight,参数形状:torch.Size([2048, 128, 1, 1])\n",
      "开源模型层名称:features.stage4.unit1.identity_conv.bn.running_var,参数形状:torch.Size([2048])\n",
      "第36个不一致层:\n",
      "自己模型层名称:layer4.0.se_module.fc2.bias,参数形状:torch.Size([2048])\n",
      "开源模型层名称:features.stage4.unit1.identity_conv.bn.num_batches_tracked,参数形状:torch.Size([])\n",
      "共有36层参数形状不一致\n",
      "torch.Size([1, 1000])\n",
      "argmax_res:506\n",
      "自己实现resnext101_32x8d结果:506\n",
      "两种实现结果是否一致:False\n"
     ]
    }
   ],
   "source": [
    "my_seresnext50 = get_resnext(mode=0, use_se=True, pretrained=False, progress=True)\n",
    "my_dict = my_seresnext50.state_dict()\n",
    "model_path = 'seresnext50_32x4d-0521-b0ce2520.pth'\n",
    "#model_path = 'resnext101_32x8d-8ba56ff5.pth'\n",
    "base_path = 'C:/Users/Administrator/.cache/torch/checkpoints/'\n",
    "state_dict = torch.load(base_path + model_path, map_location='cpu')\n",
    "count = 0\n",
    "# 由于模型所有层的名称不一致，需要逐层判断其形状来统计哪些层定义不一致\n",
    "for my_key, key in zip(list(my_dict.keys()), list(state_dict.keys())):\n",
    "    if my_dict[my_key].shape != state_dict[key].shape:\n",
    "        count += 1\n",
    "        print(\"第{}个不一致层:\".format(count))\n",
    "        print(\"自己模型层名称:{},参数形状:{}\".format(my_key, my_dict[my_key].shape))\n",
    "        print(\"开源模型层名称:{},参数形状:{}\".format(key, state_dict[key].shape))\n",
    "        \n",
    "    else:\n",
    "        my_dict[my_key] = copy.deepcopy(state_dict[key])\n",
    "print(\"共有{}层参数形状不一致\".format(count))\n",
    "my_seresnext50.load_state_dict(my_dict, strict=False)\n",
    "#my_resnext.load_state_dict(state_dict, strict=False)\n",
    "res, res_sftmx = inference(my_seresnext50, input_batch)\n",
    "print(\"自己实现resnext101_32x8d结果:{}\".format(res))\n",
    "\n",
    "isEqual = torch.equal(res_sftmx, res_official_sftmx)\n",
    "print(\"两种实现结果是否一致:{}\".format(isEqual))"
   ]
  },
  {
   "cell_type": "code",
   "execution_count": null,
   "metadata": {},
   "outputs": [],
   "source": []
  }
 ],
 "metadata": {
  "kernelspec": {
   "display_name": "Python 3",
   "language": "python",
   "name": "python3"
  },
  "language_info": {
   "codemirror_mode": {
    "name": "ipython",
    "version": 3
   },
   "file_extension": ".py",
   "mimetype": "text/x-python",
   "name": "python",
   "nbconvert_exporter": "python",
   "pygments_lexer": "ipython3",
   "version": "3.6.8"
  }
 },
 "nbformat": 4,
 "nbformat_minor": 2
}
